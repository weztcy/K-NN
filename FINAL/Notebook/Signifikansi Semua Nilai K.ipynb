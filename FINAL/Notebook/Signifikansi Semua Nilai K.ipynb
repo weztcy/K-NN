{
 "cells": [
  {
   "cell_type": "markdown",
   "id": "eeb8ebe9-ceed-4ed6-9550-599465bb3c90",
   "metadata": {},
   "source": [
    "# Accuracy"
   ]
  },
  {
   "cell_type": "code",
   "execution_count": 1,
   "id": "8f02ae8e-48f6-4f57-9d40-798c639da8b1",
   "metadata": {},
   "outputs": [
    {
     "name": "stdout",
     "output_type": "stream",
     "text": [
      "Uji t untuk Min-Max Scaling dibandingkan dengan Tanpa Normalisasi:\n",
      "t-statistic: -3.99754, p-value: 0.01035\n",
      "Perbedaan antara Min-Max Scaling dan Tanpa Normalisasi signifikan.\n",
      "\n",
      "Uji t untuk Z-Score (Standard Scaling) dibandingkan dengan Tanpa Normalisasi:\n",
      "t-statistic: -2.15584, p-value: 0.08363\n",
      "Perbedaan antara Z-Score (Standard Scaling) dan Tanpa Normalisasi tidak signifikan.\n",
      "\n",
      "Uji t untuk Decimal Scaling dibandingkan dengan Tanpa Normalisasi:\n",
      "t-statistic: 2.52689, p-value: 0.05273\n",
      "Perbedaan antara Decimal Scaling dan Tanpa Normalisasi tidak signifikan.\n",
      "\n"
     ]
    }
   ],
   "source": [
    "import numpy as np\n",
    "from scipy import stats\n",
    "\n",
    "# Data akurasi untuk setiap metode\n",
    "tanpa_normalisasi = np.array([0.7273, 0.7403, 0.7403, 0.7273, 0.7532, 0.7597])\n",
    "min_max_scaling = np.array([0.7403, 0.7792, 0.7857, 0.8117, 0.7987, 0.7792])\n",
    "z_score = np.array([0.7403, 0.7403, 0.7468, 0.7922, 0.7792, 0.7727])\n",
    "decimal_scaling = np.array([0.7208, 0.7013, 0.7208, 0.7338, 0.7403, 0.7273])\n",
    "\n",
    "# Uji t berpasangan untuk setiap metode normalisasi dibandingkan dengan tanpa normalisasi\n",
    "def paired_t_test(normalization_method, label):\n",
    "    t_stat, p_value = stats.ttest_rel(tanpa_normalisasi, normalization_method)\n",
    "    print(f\"Uji t untuk {label} dibandingkan dengan Tanpa Normalisasi:\")\n",
    "    print(f\"t-statistic: {t_stat:.5f}, p-value: {p_value:.5f}\")\n",
    "    if p_value < 0.05:\n",
    "        print(f\"Perbedaan antara {label} dan Tanpa Normalisasi signifikan.\\n\")\n",
    "    else:\n",
    "        print(f\"Perbedaan antara {label} dan Tanpa Normalisasi tidak signifikan.\\n\")\n",
    "\n",
    "# Melakukan uji t untuk setiap metode\n",
    "paired_t_test(min_max_scaling, \"Min-Max Scaling\")\n",
    "paired_t_test(z_score, \"Z-Score (Standard Scaling)\")\n",
    "paired_t_test(decimal_scaling, \"Decimal Scaling\")\n"
   ]
  },
  {
   "cell_type": "markdown",
   "id": "982a8e01-b110-4d1e-9e12-c162da3e4d91",
   "metadata": {},
   "source": [
    "# Precision"
   ]
  },
  {
   "cell_type": "code",
   "execution_count": 2,
   "id": "0a3df04e-f4e2-409d-8321-b3d242974e46",
   "metadata": {},
   "outputs": [
    {
     "name": "stdout",
     "output_type": "stream",
     "text": [
      "Uji t untuk Min-Max Scaling dibandingkan dengan Tanpa Normalisasi (Precision):\n",
      "t-statistic: -4.12930, p-value: 0.00909\n",
      "Perbedaan antara Min-Max Scaling dan Tanpa Normalisasi signifikan.\n",
      "\n",
      "Uji t untuk Z-Score (Standard Scaling) dibandingkan dengan Tanpa Normalisasi (Precision):\n",
      "t-statistic: -2.21749, p-value: 0.07737\n",
      "Perbedaan antara Z-Score (Standard Scaling) dan Tanpa Normalisasi tidak signifikan.\n",
      "\n",
      "Uji t untuk Decimal Scaling dibandingkan dengan Tanpa Normalisasi (Precision):\n",
      "t-statistic: 2.73333, p-value: 0.04112\n",
      "Perbedaan antara Decimal Scaling dan Tanpa Normalisasi signifikan.\n",
      "\n"
     ]
    }
   ],
   "source": [
    "import numpy as np\n",
    "from scipy import stats\n",
    "\n",
    "# Data Precision untuk setiap metode\n",
    "tanpa_normalisasi_precision = np.array([0.703, 0.7179, 0.7188, 0.7065, 0.7318, 0.739])\n",
    "min_max_scaling_precision = np.array([0.7179, 0.7596, 0.7666, 0.7946, 0.7811, 0.7599])\n",
    "z_score_precision = np.array([0.7172, 0.7188, 0.7252, 0.7737, 0.7599, 0.7529])\n",
    "decimal_scaling_precision = np.array([0.6964, 0.6813, 0.6976, 0.7114, 0.7172, 0.7024])\n",
    "\n",
    "# Uji t berpasangan untuk setiap metode normalisasi dibandingkan dengan Tanpa Normalisasi\n",
    "def paired_t_test_precision(normalization_method, label):\n",
    "    t_stat, p_value = stats.ttest_rel(tanpa_normalisasi_precision, normalization_method)\n",
    "    print(f\"Uji t untuk {label} dibandingkan dengan Tanpa Normalisasi (Precision):\")\n",
    "    print(f\"t-statistic: {t_stat:.5f}, p-value: {p_value:.5f}\")\n",
    "    if p_value < 0.05:\n",
    "        print(f\"Perbedaan antara {label} dan Tanpa Normalisasi signifikan.\\n\")\n",
    "    else:\n",
    "        print(f\"Perbedaan antara {label} dan Tanpa Normalisasi tidak signifikan.\\n\")\n",
    "\n",
    "# Melakukan uji t untuk setiap metode\n",
    "paired_t_test_precision(min_max_scaling_precision, \"Min-Max Scaling\")\n",
    "paired_t_test_precision(z_score_precision, \"Z-Score (Standard Scaling)\")\n",
    "paired_t_test_precision(decimal_scaling_precision, \"Decimal Scaling\")\n"
   ]
  },
  {
   "cell_type": "markdown",
   "id": "e72d5791-1547-4211-bd83-f16bea8781eb",
   "metadata": {},
   "source": [
    "# Recall"
   ]
  },
  {
   "cell_type": "code",
   "execution_count": 3,
   "id": "58023f36-f29d-4ef0-9e4e-7c4c7a7182e5",
   "metadata": {},
   "outputs": [
    {
     "name": "stdout",
     "output_type": "stream",
     "text": [
      "Uji t untuk Min-Max Scaling dibandingkan dengan Tanpa Normalisasi (Recall):\n",
      "t-statistic: -3.54493, p-value: 0.01648\n",
      "Perbedaan antara Min-Max Scaling dan Tanpa Normalisasi signifikan.\n",
      "\n",
      "Uji t untuk Z-Score (Standard Scaling) dibandingkan dengan Tanpa Normalisasi (Recall):\n",
      "t-statistic: -2.35725, p-value: 0.06497\n",
      "Perbedaan antara Z-Score (Standard Scaling) dan Tanpa Normalisasi tidak signifikan.\n",
      "\n",
      "Uji t untuk Decimal Scaling dibandingkan dengan Tanpa Normalisasi (Recall):\n",
      "t-statistic: 2.92463, p-value: 0.03284\n",
      "Perbedaan antara Decimal Scaling dan Tanpa Normalisasi signifikan.\n",
      "\n"
     ]
    }
   ],
   "source": [
    "import numpy as np\n",
    "from scipy import stats\n",
    "\n",
    "# Data Recall untuk setiap metode\n",
    "tanpa_normalisasi_recall = np.array([0.703, 0.7212, 0.7253, 0.7152, 0.7354, 0.7444])\n",
    "min_max_scaling_recall = np.array([0.7121, 0.7636, 0.7687, 0.797, 0.7788, 0.7556])\n",
    "z_score_recall = np.array([0.7172, 0.7253, 0.7303, 0.7737, 0.7556, 0.7586])\n",
    "decimal_scaling_recall = np.array([0.698, 0.6909, 0.702, 0.7162, 0.7172, 0.699])\n",
    "\n",
    "# Uji t berpasangan untuk setiap metode normalisasi dibandingkan dengan Tanpa Normalisasi\n",
    "def paired_t_test_recall(normalization_method, label):\n",
    "    t_stat, p_value = stats.ttest_rel(tanpa_normalisasi_recall, normalization_method)\n",
    "    print(f\"Uji t untuk {label} dibandingkan dengan Tanpa Normalisasi (Recall):\")\n",
    "    print(f\"t-statistic: {t_stat:.5f}, p-value: {p_value:.5f}\")\n",
    "    if p_value < 0.05:\n",
    "        print(f\"Perbedaan antara {label} dan Tanpa Normalisasi signifikan.\\n\")\n",
    "    else:\n",
    "        print(f\"Perbedaan antara {label} dan Tanpa Normalisasi tidak signifikan.\\n\")\n",
    "\n",
    "# Melakukan uji t untuk setiap metode\n",
    "paired_t_test_recall(min_max_scaling_recall, \"Min-Max Scaling\")\n",
    "paired_t_test_recall(z_score_recall, \"Z-Score (Standard Scaling)\")\n",
    "paired_t_test_recall(decimal_scaling_recall, \"Decimal Scaling\")\n"
   ]
  },
  {
   "cell_type": "markdown",
   "id": "dd4f9575-29e2-4cb1-bf31-c87679b450b4",
   "metadata": {},
   "source": [
    "# F1-Score"
   ]
  },
  {
   "cell_type": "code",
   "execution_count": 4,
   "id": "b5e2a8d0-91da-4e1f-b2e0-0b6add75e5b6",
   "metadata": {},
   "outputs": [
    {
     "name": "stdout",
     "output_type": "stream",
     "text": [
      "Uji t untuk Min-Max Scaling dibandingkan dengan Tanpa Normalisasi (F1-Score):\n",
      "t-statistic: -4.02148, p-value: 0.01011\n",
      "Perbedaan antara Min-Max Scaling dan Tanpa Normalisasi signifikan.\n",
      "\n",
      "Uji t untuk Z-Score (Standard Scaling) dibandingkan dengan Tanpa Normalisasi (F1-Score):\n",
      "t-statistic: -2.25157, p-value: 0.07413\n",
      "Perbedaan antara Z-Score (Standard Scaling) dan Tanpa Normalisasi tidak signifikan.\n",
      "\n",
      "Uji t untuk Decimal Scaling dibandingkan dengan Tanpa Normalisasi (F1-Score):\n",
      "t-statistic: 2.77965, p-value: 0.03892\n",
      "Perbedaan antara Decimal Scaling dan Tanpa Normalisasi signifikan.\n",
      "\n"
     ]
    }
   ],
   "source": [
    "import numpy as np\n",
    "from scipy import stats\n",
    "\n",
    "# Data F1-Score untuk setiap metode\n",
    "tanpa_normalisasi_f1 = np.array([0.703, 0.7194, 0.7215, 0.7096, 0.7334, 0.7414])\n",
    "min_max_scaling_f1 = np.array([0.7194, 0.7615, 0.7676, 0.7958, 0.7799, 0.7576])\n",
    "z_score_f1 = np.array([0.7172, 0.7215, 0.7274, 0.7737, 0.7576, 0.7554])\n",
    "decimal_scaling_f1 = np.array([0.6972, 0.684, 0.6995, 0.7135, 0.7172, 0.7006])\n",
    "\n",
    "# Uji t berpasangan untuk setiap metode normalisasi dibandingkan dengan Tanpa Normalisasi\n",
    "def paired_t_test_f1(normalization_method, label):\n",
    "    t_stat, p_value = stats.ttest_rel(tanpa_normalisasi_f1, normalization_method)\n",
    "    print(f\"Uji t untuk {label} dibandingkan dengan Tanpa Normalisasi (F1-Score):\")\n",
    "    print(f\"t-statistic: {t_stat:.5f}, p-value: {p_value:.5f}\")\n",
    "    if p_value < 0.05:\n",
    "        print(f\"Perbedaan antara {label} dan Tanpa Normalisasi signifikan.\\n\")\n",
    "    else:\n",
    "        print(f\"Perbedaan antara {label} dan Tanpa Normalisasi tidak signifikan.\\n\")\n",
    "\n",
    "# Melakukan uji t untuk setiap metode\n",
    "paired_t_test_f1(min_max_scaling_f1, \"Min-Max Scaling\")\n",
    "paired_t_test_f1(z_score_f1, \"Z-Score (Standard Scaling)\")\n",
    "paired_t_test_f1(decimal_scaling_f1, \"Decimal Scaling\")\n"
   ]
  },
  {
   "cell_type": "markdown",
   "id": "4e536cd5-9ddf-4b9f-9c6c-c25c20948597",
   "metadata": {},
   "source": [
    "# Specificity"
   ]
  },
  {
   "cell_type": "code",
   "execution_count": 5,
   "id": "a880c03a-9805-49a3-b0be-b4ae4ca6607d",
   "metadata": {},
   "outputs": [
    {
     "name": "stdout",
     "output_type": "stream",
     "text": [
      "Uji t untuk Min-Max Scaling dibandingkan dengan Tanpa Normalisasi (Specificity):\n",
      "t-statistic: -3.60555, p-value: 0.01545\n",
      "Perbedaan antara Min-Max Scaling dan Tanpa Normalisasi signifikan.\n",
      "\n",
      "Uji t untuk Z-Score (Standard Scaling) dibandingkan dengan Tanpa Normalisasi (Specificity):\n",
      "t-statistic: -1.78377, p-value: 0.13454\n",
      "Perbedaan antara Z-Score (Standard Scaling) dan Tanpa Normalisasi tidak signifikan.\n",
      "\n",
      "Uji t untuk Decimal Scaling dibandingkan dengan Tanpa Normalisasi (Specificity):\n",
      "t-statistic: 0.91287, p-value: 0.40318\n",
      "Perbedaan antara Decimal Scaling dan Tanpa Normalisasi tidak signifikan.\n",
      "\n"
     ]
    }
   ],
   "source": [
    "import numpy as np\n",
    "from scipy import stats\n",
    "\n",
    "# Data Specificity untuk setiap metode\n",
    "tanpa_normalisasi_specificity = np.array([0.7879, 0.7879, 0.7778, 0.7576, 0.798, 0.798])\n",
    "min_max_scaling_specificity = np.array([0.7879, 0.8182, 0.8283, 0.8485, 0.8485, 0.8384])\n",
    "z_score_specificity = np.array([0.798, 0.7778, 0.7879, 0.8384, 0.8384, 0.8081])\n",
    "decimal_scaling_specificity = np.array([0.7778, 0.7273, 0.7677, 0.7778, 0.798, 0.798])\n",
    "\n",
    "# Uji t berpasangan untuk setiap metode normalisasi dibandingkan dengan Tanpa Normalisasi\n",
    "def paired_t_test_specificity(normalization_method, label):\n",
    "    t_stat, p_value = stats.ttest_rel(tanpa_normalisasi_specificity, normalization_method)\n",
    "    print(f\"Uji t untuk {label} dibandingkan dengan Tanpa Normalisasi (Specificity):\")\n",
    "    print(f\"t-statistic: {t_stat:.5f}, p-value: {p_value:.5f}\")\n",
    "    if p_value < 0.05:\n",
    "        print(f\"Perbedaan antara {label} dan Tanpa Normalisasi signifikan.\\n\")\n",
    "    else:\n",
    "        print(f\"Perbedaan antara {label} dan Tanpa Normalisasi tidak signifikan.\\n\")\n",
    "\n",
    "# Melakukan uji t untuk setiap metode\n",
    "paired_t_test_specificity(min_max_scaling_specificity, \"Min-Max Scaling\")\n",
    "paired_t_test_specificity(z_score_specificity, \"Z-Score (Standard Scaling)\")\n",
    "paired_t_test_specificity(decimal_scaling_specificity, \"Decimal Scaling\")\n"
   ]
  },
  {
   "cell_type": "markdown",
   "id": "e15f63dd-2cf2-4b83-b036-3c70e3592891",
   "metadata": {},
   "source": [
    "# ROC AUC"
   ]
  },
  {
   "cell_type": "code",
   "execution_count": 6,
   "id": "11cd497c-a74d-4b98-bbe0-7010673859b3",
   "metadata": {},
   "outputs": [
    {
     "name": "stdout",
     "output_type": "stream",
     "text": [
      "Uji t untuk Min-Max Scaling dibandingkan dengan Tanpa Normalisasi (ROC AUC):\n",
      "t-statistic: -14.30525, p-value: 0.00003\n",
      "Perbedaan antara Min-Max Scaling dan Tanpa Normalisasi signifikan.\n",
      "\n",
      "Uji t untuk Z-Score (Standard Scaling) dibandingkan dengan Tanpa Normalisasi (ROC AUC):\n",
      "t-statistic: -2.47726, p-value: 0.05603\n",
      "Perbedaan antara Z-Score (Standard Scaling) dan Tanpa Normalisasi tidak signifikan.\n",
      "\n",
      "Uji t untuk Decimal Scaling dibandingkan dengan Tanpa Normalisasi (ROC AUC):\n",
      "t-statistic: 0.84161, p-value: 0.43839\n",
      "Perbedaan antara Decimal Scaling dan Tanpa Normalisasi tidak signifikan.\n",
      "\n"
     ]
    }
   ],
   "source": [
    "import numpy as np\n",
    "from scipy import stats\n",
    "\n",
    "# Data ROC AUC untuk setiap metode\n",
    "tanpa_normalisasi_roc_auc = np.array([0.703, 0.7587, 0.7719, 0.7707, 0.7751, 0.7802])\n",
    "min_max_scaling_roc_auc = np.array([0.7212, 0.7844, 0.791, 0.795, 0.8037, 0.805])\n",
    "z_score_roc_auc = np.array([0.7172, 0.7553, 0.7697, 0.7969, 0.806, 0.8129])\n",
    "decimal_scaling_roc_auc = np.array([0.698, 0.7391, 0.7533, 0.7728, 0.7834, 0.7874])\n",
    "\n",
    "# Uji t berpasangan untuk setiap metode normalisasi dibandingkan dengan Tanpa Normalisasi\n",
    "def paired_t_test_roc_auc(normalization_method, label):\n",
    "    t_stat, p_value = stats.ttest_rel(tanpa_normalisasi_roc_auc, normalization_method)\n",
    "    print(f\"Uji t untuk {label} dibandingkan dengan Tanpa Normalisasi (ROC AUC):\")\n",
    "    print(f\"t-statistic: {t_stat:.5f}, p-value: {p_value:.5f}\")\n",
    "    if p_value < 0.05:\n",
    "        print(f\"Perbedaan antara {label} dan Tanpa Normalisasi signifikan.\\n\")\n",
    "    else:\n",
    "        print(f\"Perbedaan antara {label} dan Tanpa Normalisasi tidak signifikan.\\n\")\n",
    "\n",
    "# Melakukan uji t untuk setiap metode\n",
    "paired_t_test_roc_auc(min_max_scaling_roc_auc, \"Min-Max Scaling\")\n",
    "paired_t_test_roc_auc(z_score_roc_auc, \"Z-Score (Standard Scaling)\")\n",
    "paired_t_test_roc_auc(decimal_scaling_roc_auc, \"Decimal Scaling\")\n"
   ]
  }
 ],
 "metadata": {
  "kernelspec": {
   "display_name": "Python 3 (ipykernel)",
   "language": "python",
   "name": "python3"
  },
  "language_info": {
   "codemirror_mode": {
    "name": "ipython",
    "version": 3
   },
   "file_extension": ".py",
   "mimetype": "text/x-python",
   "name": "python",
   "nbconvert_exporter": "python",
   "pygments_lexer": "ipython3",
   "version": "3.13.1"
  }
 },
 "nbformat": 4,
 "nbformat_minor": 5
}
