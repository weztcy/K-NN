{
 "cells": [
  {
   "cell_type": "markdown",
   "id": "0fd5ccdd-0ae5-4603-8ee5-419a59cefd61",
   "metadata": {},
   "source": [
    "# Load Dataset"
   ]
  },
  {
   "cell_type": "code",
   "execution_count": 1,
   "id": "b4591e6b-664d-4c78-9734-e4933d909a90",
   "metadata": {},
   "outputs": [
    {
     "name": "stdout",
     "output_type": "stream",
     "text": [
      "   Pregnancies  Glucose  BloodPressure  SkinThickness  Insulin   BMI  \\\n",
      "0            6      148             72             35        0  33.6   \n",
      "1            1       85             66             29        0  26.6   \n",
      "2            8      183             64              0        0  23.3   \n",
      "3            1       89             66             23       94  28.1   \n",
      "4            0      137             40             35      168  43.1   \n",
      "\n",
      "   DiabetesPedigreeFunction  Age  Outcome  \n",
      "0                     0.627   50        1  \n",
      "1                     0.351   31        0  \n",
      "2                     0.672   32        1  \n",
      "3                     0.167   21        0  \n",
      "4                     2.288   33        1  \n"
     ]
    }
   ],
   "source": [
    "import pandas as pd\n",
    "\n",
    "# Memuat dataset CSV\n",
    "df = pd.read_csv('../diabetes.csv')\n",
    "\n",
    "# Menampilkan 5 baris pertama dari dataset\n",
    "print(df.head())"
   ]
  },
  {
   "cell_type": "markdown",
   "id": "8dd7a172-8477-405b-873c-fbe14b13cfc5",
   "metadata": {},
   "source": [
    "# Periksa Dimensi Dataset"
   ]
  },
  {
   "cell_type": "code",
   "execution_count": 2,
   "id": "807a041a-8058-42be-8252-b311108f55a5",
   "metadata": {},
   "outputs": [
    {
     "data": {
      "text/plain": [
       "(768, 9)"
      ]
     },
     "execution_count": 2,
     "metadata": {},
     "output_type": "execute_result"
    }
   ],
   "source": [
    "df.shape"
   ]
  },
  {
   "cell_type": "markdown",
   "id": "ed6c8fa7-e596-43ec-b2a9-5c2ac3243c2c",
   "metadata": {},
   "source": [
    "# Periksa Tipe Data"
   ]
  },
  {
   "cell_type": "code",
   "execution_count": 3,
   "id": "a76f86d3-634f-4254-86a3-ac6495bba351",
   "metadata": {},
   "outputs": [
    {
     "name": "stdout",
     "output_type": "stream",
     "text": [
      "<class 'pandas.core.frame.DataFrame'>\n",
      "RangeIndex: 768 entries, 0 to 767\n",
      "Data columns (total 9 columns):\n",
      " #   Column                    Non-Null Count  Dtype  \n",
      "---  ------                    --------------  -----  \n",
      " 0   Pregnancies               768 non-null    int64  \n",
      " 1   Glucose                   768 non-null    int64  \n",
      " 2   BloodPressure             768 non-null    int64  \n",
      " 3   SkinThickness             768 non-null    int64  \n",
      " 4   Insulin                   768 non-null    int64  \n",
      " 5   BMI                       768 non-null    float64\n",
      " 6   DiabetesPedigreeFunction  768 non-null    float64\n",
      " 7   Age                       768 non-null    int64  \n",
      " 8   Outcome                   768 non-null    int64  \n",
      "dtypes: float64(2), int64(7)\n",
      "memory usage: 54.1 KB\n"
     ]
    }
   ],
   "source": [
    "df.info()"
   ]
  },
  {
   "cell_type": "markdown",
   "id": "9d0c5c32-520b-477a-8823-84b6ee073ef1",
   "metadata": {},
   "source": [
    "# Cek Missing Values di Setiap Kolom"
   ]
  },
  {
   "cell_type": "code",
   "execution_count": 4,
   "id": "f063bbb8-ae47-4df4-8ed4-fc487d126231",
   "metadata": {},
   "outputs": [
    {
     "data": {
      "text/plain": [
       "Pregnancies                 0\n",
       "Glucose                     0\n",
       "BloodPressure               0\n",
       "SkinThickness               0\n",
       "Insulin                     0\n",
       "BMI                         0\n",
       "DiabetesPedigreeFunction    0\n",
       "Age                         0\n",
       "Outcome                     0\n",
       "dtype: int64"
      ]
     },
     "execution_count": 4,
     "metadata": {},
     "output_type": "execute_result"
    }
   ],
   "source": [
    "df.isnull().sum()"
   ]
  },
  {
   "cell_type": "markdown",
   "id": "0da32ea4-fcb1-45d5-8a15-b23d0e03cc58",
   "metadata": {},
   "source": [
    "# Cek Data Duplikat"
   ]
  },
  {
   "cell_type": "code",
   "execution_count": 5,
   "id": "69c453bd-086a-441b-ac73-7035d1ffe4a2",
   "metadata": {},
   "outputs": [
    {
     "name": "stdout",
     "output_type": "stream",
     "text": [
      "Jumlah data duplikat: 0\n"
     ]
    }
   ],
   "source": [
    "# Mengecek jumlah duplikat di seluruh dataset\n",
    "jumlah_duplikat = df.duplicated().sum()\n",
    "print(f\"Jumlah data duplikat: {jumlah_duplikat}\")"
   ]
  },
  {
   "cell_type": "markdown",
   "id": "3de90ca3-509b-4816-8555-226838263c30",
   "metadata": {},
   "source": [
    "# Membagi Dataset Berdasarkan Jenis Data"
   ]
  },
  {
   "cell_type": "code",
   "execution_count": 6,
   "id": "17d0e7e6-033f-4d88-a3fd-a72871a640b0",
   "metadata": {},
   "outputs": [],
   "source": [
    "import pandas as pd\n",
    "\n",
    "# Membagi kolom berdasarkan tipe data\n",
    "numerical_features = df.select_dtypes(include=['int64', 'float64']).columns  # Kolom numerik\n",
    "categorical_features = df.select_dtypes(include=['object', 'category']).columns  # Kolom kategorikal\n",
    "\n",
    "# Khusus fitur Outcome sebagai kategorikal\n",
    "categorical_features = list(categorical_features)  # Konversi ke list\n",
    "if 'Outcome' in df.columns:\n",
    "    categorical_features.append('Outcome')  # Tambahkan fitur 'Outcome' sebagai kategorikal\n",
    "    numerical_features = numerical_features.drop('Outcome')  # Hapus 'Outcome' dari fitur numerik"
   ]
  },
  {
   "cell_type": "markdown",
   "id": "b9670d75-8b50-41b5-a39f-06ce13320a03",
   "metadata": {},
   "source": [
    "# Data Numerik"
   ]
  },
  {
   "cell_type": "code",
   "execution_count": 7,
   "id": "cda16deb-3eeb-4879-8dec-ba0667df6f24",
   "metadata": {},
   "outputs": [
    {
     "name": "stdout",
     "output_type": "stream",
     "text": [
      "Kolom Numerik:\n",
      "Index(['Pregnancies', 'Glucose', 'BloodPressure', 'SkinThickness', 'Insulin',\n",
      "       'BMI', 'DiabetesPedigreeFunction', 'Age'],\n",
      "      dtype='object')\n",
      "\n",
      "Dataset Numerik:\n",
      " Pregnancies  Glucose  BloodPressure  SkinThickness  Insulin  BMI  DiabetesPedigreeFunction  Age\n",
      "           6      148             72             35        0 33.6                     0.627   50\n",
      "           1       85             66             29        0 26.6                     0.351   31\n",
      "           8      183             64              0        0 23.3                     0.672   32\n",
      "           1       89             66             23       94 28.1                     0.167   21\n",
      "           0      137             40             35      168 43.1                     2.288   33\n"
     ]
    }
   ],
   "source": [
    "print(\"Kolom Numerik:\")\n",
    "print(numerical_features)\n",
    "df_numerical = df[numerical_features]\n",
    "print(\"\\nDataset Numerik:\")\n",
    "print(df_numerical.head().to_string(index=False))"
   ]
  },
  {
   "cell_type": "markdown",
   "id": "c5be5ce1-9988-4815-9a23-344ffcac1751",
   "metadata": {},
   "source": [
    "# Data Kategorikal"
   ]
  },
  {
   "cell_type": "code",
   "execution_count": 8,
   "id": "99816a62-2bab-4353-a48e-258f2ce83c26",
   "metadata": {},
   "outputs": [
    {
     "name": "stdout",
     "output_type": "stream",
     "text": [
      "\n",
      "Kolom Kategorikal:\n",
      "['Outcome']\n",
      "\n",
      "Dataset Kategorikal:\n",
      " Pregnancies  Glucose  BloodPressure  SkinThickness  Insulin  BMI  DiabetesPedigreeFunction  Age\n",
      "           6      148             72             35        0 33.6                     0.627   50\n",
      "           1       85             66             29        0 26.6                     0.351   31\n",
      "           8      183             64              0        0 23.3                     0.672   32\n",
      "           1       89             66             23       94 28.1                     0.167   21\n",
      "           0      137             40             35      168 43.1                     2.288   33\n"
     ]
    }
   ],
   "source": [
    "print(\"\\nKolom Kategorikal:\")\n",
    "print(categorical_features)\n",
    "df_categorical = df[categorical_features]\n",
    "print(\"\\nDataset Kategorikal:\")\n",
    "print(df_numerical.head().to_string(index=False))"
   ]
  },
  {
   "cell_type": "markdown",
   "id": "1bbf6008-149a-4e10-965d-9e62e6db6b4b",
   "metadata": {},
   "source": [
    "# Periksa Skala pada Data Numerikal"
   ]
  },
  {
   "cell_type": "code",
   "execution_count": 9,
   "id": "46574a7f-397c-4692-8ecd-6af4ba0f0779",
   "metadata": {},
   "outputs": [
    {
     "data": {
      "text/html": [
       "<div>\n",
       "<style scoped>\n",
       "    .dataframe tbody tr th:only-of-type {\n",
       "        vertical-align: middle;\n",
       "    }\n",
       "\n",
       "    .dataframe tbody tr th {\n",
       "        vertical-align: top;\n",
       "    }\n",
       "\n",
       "    .dataframe thead th {\n",
       "        text-align: right;\n",
       "    }\n",
       "</style>\n",
       "<table border=\"1\" class=\"dataframe\">\n",
       "  <thead>\n",
       "    <tr style=\"text-align: right;\">\n",
       "      <th></th>\n",
       "      <th>Pregnancies</th>\n",
       "      <th>Glucose</th>\n",
       "      <th>BloodPressure</th>\n",
       "      <th>SkinThickness</th>\n",
       "      <th>Insulin</th>\n",
       "      <th>BMI</th>\n",
       "      <th>DiabetesPedigreeFunction</th>\n",
       "      <th>Age</th>\n",
       "    </tr>\n",
       "  </thead>\n",
       "  <tbody>\n",
       "    <tr>\n",
       "      <th>count</th>\n",
       "      <td>768.000</td>\n",
       "      <td>768.000</td>\n",
       "      <td>768.000</td>\n",
       "      <td>768.000</td>\n",
       "      <td>768.000</td>\n",
       "      <td>768.000</td>\n",
       "      <td>768.000</td>\n",
       "      <td>768.000</td>\n",
       "    </tr>\n",
       "    <tr>\n",
       "      <th>mean</th>\n",
       "      <td>3.845</td>\n",
       "      <td>120.895</td>\n",
       "      <td>69.105</td>\n",
       "      <td>20.536</td>\n",
       "      <td>79.799</td>\n",
       "      <td>31.993</td>\n",
       "      <td>0.472</td>\n",
       "      <td>33.241</td>\n",
       "    </tr>\n",
       "    <tr>\n",
       "      <th>std</th>\n",
       "      <td>3.370</td>\n",
       "      <td>31.973</td>\n",
       "      <td>19.356</td>\n",
       "      <td>15.952</td>\n",
       "      <td>115.244</td>\n",
       "      <td>7.884</td>\n",
       "      <td>0.331</td>\n",
       "      <td>11.760</td>\n",
       "    </tr>\n",
       "    <tr>\n",
       "      <th>min</th>\n",
       "      <td>0.000</td>\n",
       "      <td>0.000</td>\n",
       "      <td>0.000</td>\n",
       "      <td>0.000</td>\n",
       "      <td>0.000</td>\n",
       "      <td>0.000</td>\n",
       "      <td>0.078</td>\n",
       "      <td>21.000</td>\n",
       "    </tr>\n",
       "    <tr>\n",
       "      <th>25%</th>\n",
       "      <td>1.000</td>\n",
       "      <td>99.000</td>\n",
       "      <td>62.000</td>\n",
       "      <td>0.000</td>\n",
       "      <td>0.000</td>\n",
       "      <td>27.300</td>\n",
       "      <td>0.244</td>\n",
       "      <td>24.000</td>\n",
       "    </tr>\n",
       "    <tr>\n",
       "      <th>50%</th>\n",
       "      <td>3.000</td>\n",
       "      <td>117.000</td>\n",
       "      <td>72.000</td>\n",
       "      <td>23.000</td>\n",
       "      <td>30.500</td>\n",
       "      <td>32.000</td>\n",
       "      <td>0.372</td>\n",
       "      <td>29.000</td>\n",
       "    </tr>\n",
       "    <tr>\n",
       "      <th>75%</th>\n",
       "      <td>6.000</td>\n",
       "      <td>140.250</td>\n",
       "      <td>80.000</td>\n",
       "      <td>32.000</td>\n",
       "      <td>127.250</td>\n",
       "      <td>36.600</td>\n",
       "      <td>0.626</td>\n",
       "      <td>41.000</td>\n",
       "    </tr>\n",
       "    <tr>\n",
       "      <th>max</th>\n",
       "      <td>17.000</td>\n",
       "      <td>199.000</td>\n",
       "      <td>122.000</td>\n",
       "      <td>99.000</td>\n",
       "      <td>846.000</td>\n",
       "      <td>67.100</td>\n",
       "      <td>2.420</td>\n",
       "      <td>81.000</td>\n",
       "    </tr>\n",
       "  </tbody>\n",
       "</table>\n",
       "</div>"
      ],
      "text/plain": [
       "      Pregnancies  Glucose BloodPressure SkinThickness  Insulin      BMI  \\\n",
       "count     768.000  768.000       768.000       768.000  768.000  768.000   \n",
       "mean        3.845  120.895        69.105        20.536   79.799   31.993   \n",
       "std         3.370   31.973        19.356        15.952  115.244    7.884   \n",
       "min         0.000    0.000         0.000         0.000    0.000    0.000   \n",
       "25%         1.000   99.000        62.000         0.000    0.000   27.300   \n",
       "50%         3.000  117.000        72.000        23.000   30.500   32.000   \n",
       "75%         6.000  140.250        80.000        32.000  127.250   36.600   \n",
       "max        17.000  199.000       122.000        99.000  846.000   67.100   \n",
       "\n",
       "      DiabetesPedigreeFunction      Age  \n",
       "count                  768.000  768.000  \n",
       "mean                     0.472   33.241  \n",
       "std                      0.331   11.760  \n",
       "min                      0.078   21.000  \n",
       "25%                      0.244   24.000  \n",
       "50%                      0.372   29.000  \n",
       "75%                      0.626   41.000  \n",
       "max                      2.420   81.000  "
      ]
     },
     "execution_count": 9,
     "metadata": {},
     "output_type": "execute_result"
    }
   ],
   "source": [
    "df[numerical_features].describe().apply(lambda x: x.map(\"{:.3f}\".format))"
   ]
  },
  {
   "cell_type": "markdown",
   "id": "1c2ba208-5d60-4a6f-b661-f3b4e2c224ec",
   "metadata": {},
   "source": [
    "# Periksa Nilai Unik pada Data Kategorikal (Outcome)"
   ]
  },
  {
   "cell_type": "code",
   "execution_count": 10,
   "id": "51a328f3-ffeb-42de-a874-f6ae36e55b8d",
   "metadata": {},
   "outputs": [
    {
     "name": "stdout",
     "output_type": "stream",
     "text": [
      "Outcome has [1 0] values\n",
      "\n"
     ]
    }
   ],
   "source": [
    "# Periksa nilai unik untuk setiap kolom dalam categorical_features\n",
    "for col in categorical_features:\n",
    "    print(f\"{col} has {df[col].unique()} values\\n\")\n"
   ]
  },
  {
   "cell_type": "markdown",
   "id": "8b43ca64-2bd1-4364-a132-22d4a5b84d33",
   "metadata": {},
   "source": [
    "# Membagi Dataset Menjadi Data Training dan Data Testing"
   ]
  },
  {
   "cell_type": "code",
   "execution_count": 11,
   "id": "913f2120-b8d6-476c-8e8e-8f1a484e5f5d",
   "metadata": {},
   "outputs": [
    {
     "name": "stdout",
     "output_type": "stream",
     "text": [
      "Data training dan testing berhasil diekspor ke diabetes_train.csv dan diabetes_test.csv\n"
     ]
    }
   ],
   "source": [
    "from sklearn.model_selection import train_test_split\n",
    "\n",
    "# Membagi dataset menjadi data training dan data testing\n",
    "X = df.drop('Outcome', axis=1)  # Fitur (tanpa kolom 'Outcome')\n",
    "y = df['Outcome']  # Target (kolom 'Outcome')\n",
    "\n",
    "# Membagi data menjadi 80% untuk training dan 20% untuk testing\n",
    "X_train, X_test, y_train, y_test = train_test_split(X, y, test_size=0.2, random_state=42)\n",
    "\n",
    "# Menggabungkan kembali X_train dan y_train menjadi satu dataframe untuk diekspor\n",
    "train_df = pd.concat([X_train, y_train], axis=1)\n",
    "\n",
    "# Menggabungkan kembali X_test dan y_test menjadi satu dataframe untuk diekspor\n",
    "test_df = pd.concat([X_test, y_test], axis=1)\n",
    "\n",
    "# Mengekspor dataset training dan testing ke file CSV\n",
    "train_df.to_csv('diabetes_train.csv', index=False)\n",
    "test_df.to_csv('diabetes_test.csv', index=False)\n",
    "\n",
    "print(\"Data training dan testing berhasil diekspor ke diabetes_train.csv dan diabetes_test.csv\")\n"
   ]
  },
  {
   "cell_type": "markdown",
   "id": "80f29ff0-160a-40f4-aea7-52f571b26976",
   "metadata": {},
   "source": [
    "# Data Training"
   ]
  },
  {
   "cell_type": "code",
   "execution_count": 12,
   "id": "9ddaa157-af65-4d69-83f1-64f6c99cdedc",
   "metadata": {},
   "outputs": [
    {
     "name": "stdout",
     "output_type": "stream",
     "text": [
      "Data Training (Data Teratas - ... - Data Terbawah):\n",
      "\n",
      "Pregnancies Glucose BloodPressure SkinThickness Insulin   BMI DiabetesPedigreeFunction Age Outcome\n",
      "          2      84             0             0       0   0.0                    0.304  21       0\n",
      "          9     112            82            24       0  28.2                    1.282  50       1\n",
      "          1     139            46            19      83  28.7                    0.654  22       0\n",
      "          0     161            50             0       0  21.9                    0.254  65       0\n",
      "        ...     ...           ...           ...     ...   ...                      ... ...     ...\n",
      "          0     125            96             0       0  22.5                    0.262  21       0\n"
     ]
    }
   ],
   "source": [
    "import pandas as pd\n",
    "\n",
    "# Mengambil 4 baris pertama dari dataset\n",
    "top_4 = train_df.head(4)\n",
    "\n",
    "# Mengambil 1 baris terakhir dari dataset\n",
    "bottom_1 = train_df.tail(1)\n",
    "\n",
    "# Membuat dataframe baru untuk titik-titik\n",
    "dots = pd.DataFrame([['...', '...', '...', '...', '...', '...', '...', '...', '...']], columns=train_df.columns)\n",
    "\n",
    "# Menggabungkan data teratas, titik-titik, dan data terbawah\n",
    "combined_data = pd.concat([top_4, dots, bottom_1], ignore_index=True)\n",
    "\n",
    "# Menghilangkan penomoran indeks dan mencetak hasilnya dengan newline\n",
    "print(\"Data Training (Data Teratas - ... - Data Terbawah):\\n\")\n",
    "print(combined_data.to_string(index=False))\n"
   ]
  },
  {
   "cell_type": "markdown",
   "id": "97b3675f-5580-41d0-b507-2bc2ee7dc750",
   "metadata": {},
   "source": [
    "# Data Testing"
   ]
  },
  {
   "cell_type": "code",
   "execution_count": 13,
   "id": "a773a2cf-48c6-46d4-b43e-a222d087bd44",
   "metadata": {},
   "outputs": [
    {
     "name": "stdout",
     "output_type": "stream",
     "text": [
      "Data Testing (Data Teratas - ... - Data Terbawah):\n",
      "\n",
      "Pregnancies Glucose BloodPressure SkinThickness Insulin   BMI DiabetesPedigreeFunction Age Outcome\n",
      "          6      98            58            33     190  34.0                     0.43  43       0\n",
      "          2     112            75            32       0  35.7                    0.148  21       0\n",
      "          2     108            64             0       0  30.8                    0.158  21       0\n",
      "          8     107            80             0       0  24.6                    0.856  34       0\n",
      "        ...     ...           ...           ...     ...   ...                      ... ...     ...\n",
      "          8      74            70            40      49  35.3                    0.705  39       0\n"
     ]
    }
   ],
   "source": [
    "import pandas as pd\n",
    "\n",
    "# Mengambil 4 baris pertama dari dataset\n",
    "top_4 = test_df.head(4)\n",
    "\n",
    "# Mengambil 1 baris terakhir dari dataset\n",
    "bottom_1 = test_df.tail(1)\n",
    "\n",
    "# Membuat dataframe baru untuk titik-titik\n",
    "dots = pd.DataFrame([['...', '...', '...', '...', '...', '...', '...', '...', '...']], columns=test_df.columns)\n",
    "\n",
    "# Menggabungkan data teratas, titik-titik, dan data terbawah\n",
    "combined_data = pd.concat([top_4, dots, bottom_1], ignore_index=True)\n",
    "\n",
    "# Menghilangkan penomoran indeks dan mencetak hasilnya dengan newline\n",
    "print(\"Data Testing (Data Teratas - ... - Data Terbawah):\\n\")\n",
    "print(combined_data.to_string(index=False))\n"
   ]
  },
  {
   "cell_type": "markdown",
   "id": "81b04e96-ff0e-4b75-96eb-aed4bc3857f3",
   "metadata": {},
   "source": [
    "# Feature Selection - Random Forest"
   ]
  },
  {
   "cell_type": "code",
   "execution_count": 14,
   "id": "e7b6f77c-ff89-4139-9e8a-61723345cfc4",
   "metadata": {},
   "outputs": [
    {
     "data": {
      "image/png": "[encoded data removed]",
      "text/plain": [
       "<Figure size 1000x600 with 1 Axes>"
      ]
     },
     "metadata": {},
     "output_type": "display_data"
    },
    {
     "name": "stdout",
     "output_type": "stream",
     "text": [
      "\n",
      "                     Feature  Importance\n",
      "1                   Glucose    0.267142\n",
      "5                       BMI    0.168769\n",
      "7                       Age    0.131567\n",
      "6  DiabetesPedigreeFunction    0.122695\n",
      "2             BloodPressure    0.088660\n",
      "0               Pregnancies    0.085017\n",
      "4                   Insulin    0.071547\n",
      "3             SkinThickness    0.064604\n"
     ]
    }
   ],
   "source": [
    "from sklearn.ensemble import RandomForestClassifier\n",
    "import matplotlib.pyplot as plt\n",
    "\n",
    "# Menyiapkan data fitur dan target\n",
    "X = df[numerical_features]  # Fitur numerik\n",
    "y = df['Outcome']  # Target: Outcome\n",
    "\n",
    "# Melatih model Random Forest\n",
    "rf_model = RandomForestClassifier(random_state=42)\n",
    "rf_model.fit(X, y)\n",
    "\n",
    "# Mengambil pentingnya fitur\n",
    "feature_importances_rf = rf_model.feature_importances_\n",
    "\n",
    "# Menampilkan pentingnya fitur\n",
    "feature_df_rf = pd.DataFrame({\n",
    "    'Feature': numerical_features,\n",
    "    'Importance': feature_importances_rf\n",
    "})\n",
    "\n",
    "# Mengurutkan berdasarkan pentingnya fitur\n",
    "feature_df_rf = feature_df_rf.sort_values(by='Importance', ascending=False)\n",
    "\n",
    "# Visualisasi pentingnya fitur\n",
    "plt.figure(figsize=(10, 6))\n",
    "plt.barh(feature_df_rf['Feature'], feature_df_rf['Importance'])\n",
    "plt.xlabel('Importance')\n",
    "plt.title('Feature Importance using Random Forest')\n",
    "plt.show()\n",
    "\n",
    "# Menampilkan fitur yang paling penting\n",
    "print(\"\\n\", feature_df_rf)\n"
   ]
  },
  {
   "cell_type": "markdown",
   "id": "75698902-9860-4bb7-bc25-126b693ef595",
   "metadata": {},
   "source": [
    "# Pilih dan Eksekusi Feature Selection"
   ]
  },
  {
   "cell_type": "code",
   "execution_count": 15,
   "id": "946b235c-aecc-4eb7-b025-cff70a6ec61a",
   "metadata": {},
   "outputs": [
    {
     "ename": "SyntaxError",
     "evalue": "unterminated string literal (detected at line 22) (3818967369.py, line 22)",
     "output_type": "error",
     "traceback": [
      "\u001b[1;36m  Cell \u001b[1;32mIn[15], line 22\u001b[1;36m\u001b[0m\n\u001b[1;33m    print(\"Feature selection selesai. Dataset terpilih disimpan di 'diabetes_train_selected.csv' dan 'di\u001b[0m\n\u001b[1;37m          ^\u001b[0m\n\u001b[1;31mSyntaxError\u001b[0m\u001b[1;31m:\u001b[0m unterminated string literal (detected at line 22)\n"
     ]
    }
   ],
   "source": [
    "# Daftar fitur yang akan dihapus (selain 'Outcome')\n",
    "features_to_remove = ['SkinThickness', 'Insulin', 'Pregnancies', 'BloodPressure']\n",
    "\n",
    "# Menghapus fitur yang tidak diinginkan dari dataset training dan testing, kecuali 'Outcome'\n",
    "train_selected_df = X_train.drop(columns=features_to_remove)\n",
    "test_selected_df = X_test.drop(columns=features_to_remove)\n",
    "\n",
    "# Menyertakan kolom 'Outcome' pada dataset yang sudah dipilih fiturnya\n",
    "train_selected_df['Outcome'] = y_train\n",
    "test_selected_df['Outcome'] = y_test\n",
    "\n",
    "# Pisahkan fitur (X) dan target (y) untuk dataset yang sudah dipilih fiturnya\n",
    "X_train_selected = train_selected_df.drop(columns=['Outcome'])\n",
    "y_train_selected = train_selected_df['Outcome']\n",
    "X_test_selected = test_selected_df.drop(columns=['Outcome'])\n",
    "y_test_selected = test_selected_df['Outcome']\n",
    "\n",
    "# Menyimpan dataset yang sudah dilakukan feature selection (jika perlu)\n",
    "train_selected_df.to_csv('diabetes_train_selected.csv', index=False)\n",
    "test_selected_df.to_csv('diabetes_test_selected.csv', index=False)\n",
    "\n",
    "print(\"Feature selection selesai. Dataset terpilih disimpan di 'diabetes_train_selected.csv' dan 'di\n"
   ]
  },
  {
   "cell_type": "markdown",
   "id": "ad134f93-0255-4e3d-bdbf-8613cec67de2",
   "metadata": {},
   "source": [
    "# Data Training"
   ]
  },
  {
   "cell_type": "code",
   "execution_count": null,
   "id": "ccdaaffa-9928-4bce-9b49-cc4910b751fd",
   "metadata": {},
   "outputs": [],
   "source": [
    "import pandas as pd\n",
    "\n",
    "# Mengambil 4 baris pertama dari dataset\n",
    "top_4 = train_selected_df.head(4)\n",
    "\n",
    "# Mengambil 1 baris terakhir dari dataset\n",
    "bottom_1 = train_selected_df.tail(1)\n",
    "\n",
    "# Membuat dataframe baru untuk titik-titik\n",
    "dots = pd.DataFrame([['...', '...', '...', '...', '...']], columns=train_selected_df.columns)\n",
    "\n",
    "# Menggabungkan data teratas, titik-titik, dan data terbawah\n",
    "combined_data = pd.concat([top_4, dots, bottom_1], ignore_index=True)\n",
    "\n",
    "# Menghilangkan penomoran indeks dan mencetak hasilnya dengan newline\n",
    "print(\"Data Testing Setelah Penghapusan Fitur:\\n\")\n",
    "print(combined_data.to_string(index=False))\n"
   ]
  },
  {
   "cell_type": "markdown",
   "id": "7ccb5629-b919-4403-960e-7f864898e35f",
   "metadata": {},
   "source": [
    "# Data Testing"
   ]
  },
  {
   "cell_type": "code",
   "execution_count": null,
   "id": "141b3ab3-614e-458e-a2a6-f8af5be54804",
   "metadata": {},
   "outputs": [],
   "source": [
    "import pandas as pd\n",
    "\n",
    "# Mengambil 4 baris pertama dari dataset\n",
    "top_4 = test_selected_df.head(4)\n",
    "\n",
    "# Mengambil 1 baris terakhir dari dataset\n",
    "bottom_1 = test_selected_df.tail(1)\n",
    "\n",
    "# Membuat dataframe baru untuk titik-titik\n",
    "dots = pd.DataFrame([['...', '...', '...', '...', '...']], columns=test_selected_df.columns)\n",
    "\n",
    "# Menggabungkan data teratas, titik-titik, dan data terbawah\n",
    "combined_data = pd.concat([top_4, dots, bottom_1], ignore_index=True)\n",
    "\n",
    "# Menghilangkan penomoran indeks dan mencetak hasilnya dengan newline\n",
    "print(\"Data Testing Setelah Penghapusan Fitur:\\n\")\n",
    "print(combined_data.to_string(index=False))\n"
   ]
  },
  {
   "cell_type": "markdown",
   "id": "77c8399d-ce36-4d48-a0f4-3ac7f90953b1",
   "metadata": {},
   "source": [
    "# Normalisasi dengan Metode Min-Max Scaling"
   ]
  },
  {
   "cell_type": "code",
   "execution_count": null,
   "id": "1437ee8b-9658-4482-b3b4-c90f5bc41561",
   "metadata": {},
   "outputs": [],
   "source": [
    "from sklearn.preprocessing import MinMaxScaler\n",
    "\n",
    "# Inisialisasi MinMaxScaler\n",
    "scaler = MinMaxScaler()\n",
    "\n",
    "# Melakukan normalisasi pada fitur training dan testing yang sudah dipilih\n",
    "X_train_scaled = scaler.fit_transform(X_train_selected)  # Normalisasi data training\n",
    "X_test_scaled = scaler.transform(X_test_selected)  # Normalisasi data testing menggunakan scaler yang sudah fit\n",
    "\n",
    "# Normalisasi target (y_train dan y_test)\n",
    "y_train_scaled = scaler.fit_transform(y_train_selected.values.reshape(-1, 1)).flatten()  # Normalisasi data target training\n",
    "y_test_scaled = scaler.transform(y_test_selected.values.reshape(-1, 1)).flatten()  # Normalisasi data target testing\n",
    "\n",
    "# Menggabungkan kembali X_train_scaled dan y_train_scaled menjadi satu dataframe untuk diekspor\n",
    "train_scaled_df = pd.concat([pd.DataFrame(X_train_scaled, columns=X_train_selected.columns), pd.DataFrame(y_train_scaled, columns=['Outcome'])], axis=1)\n",
    "\n",
    "# Menggabungkan kembali X_test_scaled dan y_test_scaled menjadi satu dataframe untuk diekspor\n",
    "test_scaled_df = pd.concat([pd.DataFrame(X_test_scaled, columns=X_test_selected.columns), pd.DataFrame(y_test_scaled, columns=['Outcome'])], axis=1)\n",
    "\n",
    "# Mengekspor dataset training dan testing yang sudah dinormalisasi ke file CSV\n",
    "train_scaled_df.to_csv('diabetes_train_scaled.csv', index=False)\n",
    "test_scaled_df.to_csv('diabetes_test_scaled.csv', index=False)\n",
    "\n",
    "print(\"Data training dan testing berhasil dinormalisasi menggunakan MinMaxScaler dan diekspor ke diabetes_train_scaled.csv dan diabetes_test_scaled.csv\")\n"
   ]
  },
  {
   "cell_type": "markdown",
   "id": "582e267a-84f6-45ba-9d29-4f7fa388017d",
   "metadata": {},
   "source": [
    "# Data Training Ternormalisasi"
   ]
  },
  {
   "cell_type": "code",
   "execution_count": null,
   "id": "cd282b84-1c6a-4450-bba0-33dd554ce33c",
   "metadata": {},
   "outputs": [],
   "source": [
    "import pandas as pd\n",
    "\n",
    "# Mengambil 4 baris pertama dari dataset\n",
    "top_4 = train_scaled_df.head(4)\n",
    "\n",
    "# Mengambil 1 baris terakhir dari dataset\n",
    "bottom_1 = train_scaled_df.tail(1)\n",
    "\n",
    "# Membuat dataframe baru untuk titik-titik\n",
    "dots = pd.DataFrame([['...', '...', '...', '...', '...']], columns=train_scaled_df.columns)\n",
    "\n",
    "# Menggabungkan data teratas, titik-titik, dan data terbawah\n",
    "combined_data = pd.concat([top_4, dots, bottom_1], ignore_index=True)\n",
    "\n",
    "# Menghilangkan penomoran indeks dan mencetak hasilnya dengan newline\n",
    "print(\"Data Training Setelah Normalisasi (Data Teratas - ... - Data Terbawah):\\n\")\n",
    "print(combined_data.to_string(index=False))\n"
   ]
  },
  {
   "cell_type": "markdown",
   "id": "78444d56-9a40-4d73-997a-16f17f3efd43",
   "metadata": {},
   "source": [
    "# Data Testing Ternormalisasi"
   ]
  },
  {
   "cell_type": "code",
   "execution_count": null,
   "id": "6830287c-ba85-4c62-8649-0eece528ec17",
   "metadata": {
    "scrolled": true
   },
   "outputs": [],
   "source": [
    "import pandas as pd\n",
    "\n",
    "# Mengambil 4 baris pertama dari dataset\n",
    "top_4 = test_scaled_df.head(4)\n",
    "\n",
    "# Mengambil 1 baris terakhir dari dataset\n",
    "bottom_1 = test_scaled_df.tail(1)\n",
    "\n",
    "# Membuat dataframe baru untuk titik-titik\n",
    "dots = pd.DataFrame([['...', '...', '...', '...', '...']], columns=test_scaled_df.columns)\n",
    "\n",
    "# Menggabungkan data teratas, titik-titik, dan data terbawah\n",
    "combined_data = pd.concat([top_4, dots, bottom_1], ignore_index=True)\n",
    "\n",
    "# Menghilangkan penomoran indeks dan mencetak hasilnya dengan newline\n",
    "print(\"Data Testing Setelah Normalisasi (Data Teratas - ... - Data Terbawah):\\n\")\n",
    "print(combined_data.to_string(index=False))"
   ]
  },
  {
   "cell_type": "markdown",
   "id": "0d702b9d-a997-496d-8fdc-18499ae78faf",
   "metadata": {},
   "source": [
    "# Latih Model K-NN"
   ]
  },
  {
   "cell_type": "code",
   "execution_count": null,
   "id": "28c3b46c-f3b8-4917-8a0f-b5edfea7d1bf",
   "metadata": {},
   "outputs": [],
   "source": [
    "from sklearn.neighbors import KNeighborsClassifier\n",
    "from sklearn.metrics import classification_report\n",
    "\n",
    "# Menyusun k_values\n",
    "k_values = [1, 3, 5, 7, 9, 11]\n",
    "\n",
    "# Latih model KNN untuk setiap nilai k dan simpan hasilnya\n",
    "knn_models = {}\n",
    "for k in k_values:\n",
    "    # Inisialisasi model KNN\n",
    "    knn = KNeighborsClassifier(n_neighbors=k)\n",
    "    \n",
    "    # Latih model\n",
    "    knn.fit(X_train_scaled, y_train_scaled)\n",
    "    \n",
    "    # Simpan model dalam dictionary\n",
    "    knn_models[k] = knn\n",
    "\n",
    "# Menyimpan model-model KNN dalam dictionary knn_models\n",
    "print(\"Model KNN berhasil dilatih dengan berbagai nilai k.\")\n"
   ]
  },
  {
   "cell_type": "markdown",
   "id": "e12322f5-ea77-4b45-b652-498519e19a9a",
   "metadata": {},
   "source": [
    "# Classification Report"
   ]
  },
  {
   "cell_type": "code",
   "execution_count": null,
   "id": "7c861b01-54ba-43e1-aa59-67cc8822675c",
   "metadata": {},
   "outputs": [],
   "source": [
    "# Menampilkan classification report untuk setiap model KNN\n",
    "for k, model in knn_models.items():\n",
    "    print(f\"\\nClassification Report untuk k = {k}:\")\n",
    "    y_pred = model.predict(X_test_scaled)\n",
    "    print(classification_report(y_test, y_pred))\n"
   ]
  },
  {
   "cell_type": "markdown",
   "id": "2a6cd4b0-af04-4f16-b714-e38c9edfe1e5",
   "metadata": {},
   "source": [
    "# Visualisasi Akurasi Setiap Nilai K"
   ]
  },
  {
   "cell_type": "code",
   "execution_count": null,
   "id": "56ccab5e-454a-4c06-a065-21fa110f3d88",
   "metadata": {},
   "outputs": [],
   "source": [
    "import matplotlib.pyplot as plt\n",
    "from sklearn.metrics import accuracy_score\n",
    "\n",
    "# Menghitung akurasi untuk setiap model KNN\n",
    "accuracies = []\n",
    "for k, model in knn_models.items():\n",
    "    y_pred = model.predict(X_test_scaled)\n",
    "    accuracy = accuracy_score(y_test_scaled, y_pred)\n",
    "    accuracies.append(accuracy)\n",
    "\n",
    "# Membuat plot akurasi terhadap nilai k\n",
    "plt.figure(figsize=(10, 6))\n",
    "plt.plot(k_values, accuracies, marker='o', linestyle='-', color='b')\n",
    "plt.title('Akurasi Model KNN untuk Setiap Nilai k')\n",
    "plt.xlabel('Nilai k')\n",
    "plt.ylabel('Akurasi')\n",
    "plt.xticks(k_values)\n",
    "plt.grid(True)\n",
    "plt.show()\n",
    "\n",
    "# Menampilkan list akurasi untuk setiap nilai k\n",
    "print(\"\\nAkurasi untuk setiap nilai k:\")\n",
    "for k, accuracy in zip(k_values, accuracies):\n",
    "    print(f\"k = {k}: Akurasi = {accuracy:.4f}\")\n"
   ]
  },
  {
   "cell_type": "markdown",
   "id": "7390e503-b403-4d68-b62d-98e2c7bbda83",
   "metadata": {},
   "source": [
    "# Visualisasi Precision, Recall, and F1-Score Setiap Nilai K"
   ]
  },
  {
   "cell_type": "code",
   "execution_count": null,
   "id": "ae2b3ae4-2772-4440-8e95-65bea54c6113",
   "metadata": {},
   "outputs": [],
   "source": [
    "import matplotlib.pyplot as plt\n",
    "from sklearn.metrics import precision_score, recall_score, f1_score\n",
    "\n",
    "# Menyimpan metrik precision, recall, dan f1-score untuk setiap model KNN\n",
    "precisions = []\n",
    "recalls = []\n",
    "f1_scores = []\n",
    "\n",
    "for k, model in knn_models.items():\n",
    "    y_pred = model.predict(X_test_scaled)\n",
    "    \n",
    "    precision = precision_score(y_test_scaled, y_pred)\n",
    "    recall = recall_score(y_test_scaled, y_pred)\n",
    "    f1 = f1_score(y_test_scaled, y_pred)\n",
    "    \n",
    "    precisions.append(precision)\n",
    "    recalls.append(recall)\n",
    "    f1_scores.append(f1)\n",
    "\n",
    "# Membuat subplots untuk menampilkan precision, recall, f1-score dan gabungannya\n",
    "fig, axes = plt.subplots(4, 1, figsize=(10, 24))\n",
    "\n",
    "# Precision, Recall, F1-Score plot (gabungan dalam satu grafik) di posisi pertama\n",
    "axes[0].plot(k_values, precisions, marker='o', linestyle='-', color='r', label='Precision')\n",
    "axes[0].plot(k_values, recalls, marker='o', linestyle='-', color='g', label='Recall')\n",
    "axes[0].plot(k_values, f1_scores, marker='o', linestyle='-', color='b', label='F1-Score')\n",
    "axes[0].set_title('Precision, Recall, dan F1-Score Model KNN untuk Setiap Nilai k')\n",
    "axes[0].set_xlabel('Nilai k')\n",
    "axes[0].set_ylabel('Classification Report')\n",
    "axes[0].set_xticks(k_values)\n",
    "axes[0].grid(True)\n",
    "axes[0].legend()\n",
    "\n",
    "# Precision plot\n",
    "axes[1].plot(k_values, precisions, marker='o', linestyle='-', color='r')\n",
    "axes[1].set_title('Precision Model KNN untuk Setiap Nilai k')\n",
    "axes[1].set_xlabel('Nilai k')\n",
    "axes[1].set_ylabel('Precision')\n",
    "axes[1].set_xticks(k_values)\n",
    "axes[1].grid(True)\n",
    "\n",
    "# Recall plot\n",
    "axes[2].plot(k_values, recalls, marker='o', linestyle='-', color='g')\n",
    "axes[2].set_title('Recall Model KNN untuk Setiap Nilai k')\n",
    "axes[2].set_xlabel('Nilai k')\n",
    "axes[2].set_ylabel('Recall')\n",
    "axes[2].set_xticks(k_values)\n",
    "axes[2].grid(True)\n",
    "\n",
    "# F1-score plot\n",
    "axes[3].plot(k_values, f1_scores, marker='o', linestyle='-', color='b')\n",
    "axes[3].set_title('F1-Score Model KNN untuk Setiap Nilai k')\n",
    "axes[3].set_xlabel('Nilai k')\n",
    "axes[3].set_ylabel('F1-Score')\n",
    "axes[3].set_xticks(k_values)\n",
    "axes[3].grid(True)\n",
    "\n",
    "# Menampilkan plot\n",
    "plt.tight_layout()\n",
    "plt.show()\n",
    "\n",
    "# Menampilkan nilai precision, recall, dan f1-score untuk setiap k\n",
    "print(\"\\nPrecision, Recall, dan F1-Score untuk setiap nilai k:\")\n",
    "for k, precision, recall, f1 in zip(k_values, precisions, recalls, f1_scores):\n",
    "    print(f\"k = {k}: Precision = {precision:.4f}, Recall = {recall:.4f}, F1-Score = {f1:.4f}\")\n"
   ]
  },
  {
   "cell_type": "markdown",
   "id": "2001bab2-289a-4c90-92ae-b3c3f08b1efd",
   "metadata": {},
   "source": [
    "# Hitung Specificity"
   ]
  },
  {
   "cell_type": "code",
   "execution_count": null,
   "id": "44a13780-3685-4f44-8ddb-7320b63687ae",
   "metadata": {},
   "outputs": [],
   "source": [
    "from sklearn.metrics import confusion_matrix\n",
    "\n",
    "# Menyimpan nilai Specificity untuk setiap model KNN\n",
    "specificities = []\n",
    "\n",
    "for k, model in knn_models.items():\n",
    "    y_pred = model.predict(X_test_scaled)\n",
    "    \n",
    "    # Menghitung confusion matrix\n",
    "    tn, fp, fn, tp = confusion_matrix(y_test_scaled, y_pred).ravel()\n",
    "    \n",
    "    # Menghitung Specificity\n",
    "    specificity = tn / (tn + fp)\n",
    "    specificities.append(specificity)\n",
    "\n",
    "# Menampilkan Specificity untuk setiap nilai k\n",
    "print(\"Specificity untuk setiap nilai k:\")\n",
    "for k, specificity in zip(k_values, specificities):\n",
    "    print(f\"k = {k}: Specificity = {specificity:.4f}\")\n"
   ]
  },
  {
   "cell_type": "markdown",
   "id": "a434f943-c359-4b3e-a14e-38923b091d73",
   "metadata": {},
   "source": [
    "# Visualisasi Specificity Setiap Nilai K"
   ]
  },
  {
   "cell_type": "code",
   "execution_count": null,
   "id": "cbd93678-4927-4c6a-9379-790234b303ce",
   "metadata": {},
   "outputs": [],
   "source": [
    "import matplotlib.pyplot as plt\n",
    "\n",
    "# Membuat plot untuk Specificity terhadap nilai k\n",
    "plt.figure(figsize=(10, 6))\n",
    "\n",
    "# Plot Specificity\n",
    "plt.plot(k_values, specificities, marker='o', linestyle='-', color='purple', label='Specificity')\n",
    "\n",
    "# Menambahkan judul dan label\n",
    "plt.title('Specificity Model KNN untuk Setiap Nilai k')\n",
    "plt.xlabel('Nilai k')\n",
    "plt.ylabel('Specificity')\n",
    "plt.xticks(k_values)\n",
    "plt.grid(True)\n",
    "\n",
    "# Menambahkan legend\n",
    "plt.legend()\n",
    "\n",
    "# Menampilkan chart\n",
    "plt.show()\n"
   ]
  },
  {
   "cell_type": "markdown",
   "id": "8057e98d-5c0f-4d74-a4c5-1006a466d64e",
   "metadata": {},
   "source": [
    "# Hitung ROC-AUC"
   ]
  },
  {
   "cell_type": "code",
   "execution_count": null,
   "id": "7bcbd4c3-5290-4a8b-84fe-21d2632465a8",
   "metadata": {},
   "outputs": [],
   "source": [
    "from sklearn.metrics import roc_auc_score, roc_curve\n",
    "import matplotlib.pyplot as plt\n",
    "\n",
    "# Menampilkan ROC AUC dan kurva ROC untuk setiap model KNN\n",
    "plt.figure(figsize=(10, 8))\n",
    "\n",
    "for k, model in knn_models.items():\n",
    "    # Prediksi probabilitas untuk kelas positif\n",
    "    y_prob = model.predict_proba(X_test_scaled)[:, 1]\n",
    "    \n",
    "    # Hitung ROC AUC\n",
    "    auc_score = roc_auc_score(y_test, y_prob)\n",
    "    fpr, tpr, _ = roc_curve(y_test, y_prob)\n",
    "    \n",
    "    # Menampilkan ROC AUC\n",
    "    print(f\"ROC AUC untuk k = {k}: {auc_score:.4f}\")\n",
    "    \n",
    "    # Plot kurva ROC\n",
    "    plt.plot(fpr, tpr, label=f'K = {k} (AUC = {auc_score:.4f})')\n",
    "\n",
    "# Menambahkan elemen-elemen plot\n",
    "plt.plot([0, 1], [0, 1], linestyle='--', color='gray', label='Random Classifier')\n",
    "plt.xlabel('False Positive Rate')\n",
    "plt.ylabel('True Positive Rate')\n",
    "plt.title('Kurva ROC untuk Setiap Nilai K')\n",
    "plt.legend(loc='lower right')\n",
    "plt.grid(True)\n",
    "plt.show()\n"
   ]
  },
  {
   "cell_type": "markdown",
   "id": "9a858176-00d7-4da9-b942-0ef62b9c64ce",
   "metadata": {},
   "source": [
    "# Confusion Matrix"
   ]
  },
  {
   "cell_type": "code",
   "execution_count": null,
   "id": "0ca05072-5784-40c0-a493-bb38239f1550",
   "metadata": {},
   "outputs": [],
   "source": [
    "from sklearn.metrics import confusion_matrix\n",
    "import seaborn as sns\n",
    "import matplotlib.pyplot as plt\n",
    "\n",
    "# Menampilkan confusion matrix untuk setiap model KNN\n",
    "for k, model in knn_models.items():\n",
    "    print(f\"\\nConfusion Matrix untuk k = {k}:\")\n",
    "    y_pred = model.predict(X_test_scaled)\n",
    "    cm = confusion_matrix(y_test, y_pred)\n",
    "    \n",
    "    # Menampilkan nilai TP, TN, FP, FN\n",
    "    tn, fp, fn, tp = cm.ravel()\n",
    "    print(f\"True Negative (TN): {tn}\")\n",
    "    print(f\"False Positive (FP): {fp}\")\n",
    "    print(f\"False Negative (FN): {fn}\")\n",
    "    print(f\"True Positive (TP): {tp}\")\n",
    "    \n",
    "    # Menampilkan confusion matrix dengan heatmap dan label\n",
    "    plt.figure(figsize=(6, 4))\n",
    "    sns.heatmap(cm, annot=True, fmt='d', cmap='Blues', xticklabels=['True Negative', 'False Positive'],\n",
    "                yticklabels=['False Negative', 'True Positive'], annot_kws={\"size\": 12, 'weight': 'bold'}, cbar=False, linewidths=0.5)\n",
    "    \n",
    "    # Menambahkan label di dalam heatmap\n",
    "    plt.title(f\"Confusion Matrix untuk k = {k}\")\n",
    "    plt.xlabel(\"Prediksi\")\n",
    "    plt.ylabel(\"Aktual\")\n",
    "    plt.show()\n"
   ]
  }
 ],
 "metadata": {
  "kernelspec": {
   "display_name": "Python 3 (ipykernel)",
   "language": "python",
   "name": "python3"
  },
  "language_info": {
   "codemirror_mode": {
    "name": "ipython",
    "version": 3
   },
   "file_extension": ".py",
   "mimetype": "text/x-python",
   "name": "python",
   "nbconvert_exporter": "python",
   "pygments_lexer": "ipython3",
   "version": "3.13.1"
  }
 },
 "nbformat": 4,
 "nbformat_minor": 5
}
