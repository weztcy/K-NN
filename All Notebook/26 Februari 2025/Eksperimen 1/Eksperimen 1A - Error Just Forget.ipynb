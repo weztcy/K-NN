{
 "cells": [
  {
   "cell_type": "markdown",
   "id": "0fd5ccdd-0ae5-4603-8ee5-419a59cefd61",
   "metadata": {},
   "source": [
    "# Load Dataset"
   ]
  },
  {
   "cell_type": "code",
   "execution_count": 1,
   "id": "b4591e6b-664d-4c78-9734-e4933d909a90",
   "metadata": {},
   "outputs": [
    {
     "name": "stdout",
     "output_type": "stream",
     "text": [
      "   Pregnancies  Glucose  BloodPressure  SkinThickness  Insulin   BMI  \\\n",
      "0            6      148             72             35        0  33.6   \n",
      "1            1       85             66             29        0  26.6   \n",
      "2            8      183             64              0        0  23.3   \n",
      "3            1       89             66             23       94  28.1   \n",
      "4            0      137             40             35      168  43.1   \n",
      "\n",
      "   DiabetesPedigreeFunction  Age  Outcome  \n",
      "0                     0.627   50        1  \n",
      "1                     0.351   31        0  \n",
      "2                     0.672   32        1  \n",
      "3                     0.167   21        0  \n",
      "4                     2.288   33        1  \n"
     ]
    }
   ],
   "source": [
    "import pandas as pd\n",
    "\n",
    "# Memuat dataset CSV\n",
    "df = pd.read_csv('../diabetes.csv')\n",
    "\n",
    "# Menampilkan 5 baris pertama dari dataset\n",
    "print(df.head())"
   ]
  },
  {
   "cell_type": "markdown",
   "id": "8dd7a172-8477-405b-873c-fbe14b13cfc5",
   "metadata": {},
   "source": [
    "# Periksa Dimensi Dataset"
   ]
  },
  {
   "cell_type": "code",
   "execution_count": 2,
   "id": "807a041a-8058-42be-8252-b311108f55a5",
   "metadata": {},
   "outputs": [
    {
     "data": {
      "text/plain": [
       "(768, 9)"
      ]
     },
     "execution_count": 2,
     "metadata": {},
     "output_type": "execute_result"
    }
   ],
   "source": [
    "df.shape"
   ]
  },
  {
   "cell_type": "markdown",
   "id": "ed6c8fa7-e596-43ec-b2a9-5c2ac3243c2c",
   "metadata": {},
   "source": [
    "# Periksa Tipe Data"
   ]
  },
  {
   "cell_type": "code",
   "execution_count": 3,
   "id": "a76f86d3-634f-4254-86a3-ac6495bba351",
   "metadata": {},
   "outputs": [
    {
     "name": "stdout",
     "output_type": "stream",
     "text": [
      "<class 'pandas.core.frame.DataFrame'>\n",
      "RangeIndex: 768 entries, 0 to 767\n",
      "Data columns (total 9 columns):\n",
      " #   Column                    Non-Null Count  Dtype  \n",
      "---  ------                    --------------  -----  \n",
      " 0   Pregnancies               768 non-null    int64  \n",
      " 1   Glucose                   768 non-null    int64  \n",
      " 2   BloodPressure             768 non-null    int64  \n",
      " 3   SkinThickness             768 non-null    int64  \n",
      " 4   Insulin                   768 non-null    int64  \n",
      " 5   BMI                       768 non-null    float64\n",
      " 6   DiabetesPedigreeFunction  768 non-null    float64\n",
      " 7   Age                       768 non-null    int64  \n",
      " 8   Outcome                   768 non-null    int64  \n",
      "dtypes: float64(2), int64(7)\n",
      "memory usage: 54.1 KB\n"
     ]
    }
   ],
   "source": [
    "df.info()"
   ]
  },
  {
   "cell_type": "markdown",
   "id": "1bbf6008-149a-4e10-965d-9e62e6db6b4b",
   "metadata": {},
   "source": [
    "# Periksa Ringkasan Statistik"
   ]
  },
  {
   "cell_type": "code",
   "execution_count": 4,
   "id": "46574a7f-397c-4692-8ecd-6af4ba0f0779",
   "metadata": {},
   "outputs": [
    {
     "data": {
      "text/html": [
       "<div>\n",
       "<style scoped>\n",
       "    .dataframe tbody tr th:only-of-type {\n",
       "        vertical-align: middle;\n",
       "    }\n",
       "\n",
       "    .dataframe tbody tr th {\n",
       "        vertical-align: top;\n",
       "    }\n",
       "\n",
       "    .dataframe thead th {\n",
       "        text-align: right;\n",
       "    }\n",
       "</style>\n",
       "<table border=\"1\" class=\"dataframe\">\n",
       "  <thead>\n",
       "    <tr style=\"text-align: right;\">\n",
       "      <th></th>\n",
       "      <th>Pregnancies</th>\n",
       "      <th>Glucose</th>\n",
       "      <th>BloodPressure</th>\n",
       "      <th>SkinThickness</th>\n",
       "      <th>Insulin</th>\n",
       "      <th>BMI</th>\n",
       "      <th>DiabetesPedigreeFunction</th>\n",
       "      <th>Age</th>\n",
       "      <th>Outcome</th>\n",
       "    </tr>\n",
       "  </thead>\n",
       "  <tbody>\n",
       "    <tr>\n",
       "      <th>count</th>\n",
       "      <td>768.000000</td>\n",
       "      <td>768.000000</td>\n",
       "      <td>768.000000</td>\n",
       "      <td>768.000000</td>\n",
       "      <td>768.000000</td>\n",
       "      <td>768.000000</td>\n",
       "      <td>768.000000</td>\n",
       "      <td>768.000000</td>\n",
       "      <td>768.000000</td>\n",
       "    </tr>\n",
       "    <tr>\n",
       "      <th>mean</th>\n",
       "      <td>3.845052</td>\n",
       "      <td>120.894531</td>\n",
       "      <td>69.105469</td>\n",
       "      <td>20.536458</td>\n",
       "      <td>79.799479</td>\n",
       "      <td>31.992578</td>\n",
       "      <td>0.471876</td>\n",
       "      <td>33.240885</td>\n",
       "      <td>0.348958</td>\n",
       "    </tr>\n",
       "    <tr>\n",
       "      <th>std</th>\n",
       "      <td>3.369578</td>\n",
       "      <td>31.972618</td>\n",
       "      <td>19.355807</td>\n",
       "      <td>15.952218</td>\n",
       "      <td>115.244002</td>\n",
       "      <td>7.884160</td>\n",
       "      <td>0.331329</td>\n",
       "      <td>11.760232</td>\n",
       "      <td>0.476951</td>\n",
       "    </tr>\n",
       "    <tr>\n",
       "      <th>min</th>\n",
       "      <td>0.000000</td>\n",
       "      <td>0.000000</td>\n",
       "      <td>0.000000</td>\n",
       "      <td>0.000000</td>\n",
       "      <td>0.000000</td>\n",
       "      <td>0.000000</td>\n",
       "      <td>0.078000</td>\n",
       "      <td>21.000000</td>\n",
       "      <td>0.000000</td>\n",
       "    </tr>\n",
       "    <tr>\n",
       "      <th>25%</th>\n",
       "      <td>1.000000</td>\n",
       "      <td>99.000000</td>\n",
       "      <td>62.000000</td>\n",
       "      <td>0.000000</td>\n",
       "      <td>0.000000</td>\n",
       "      <td>27.300000</td>\n",
       "      <td>0.243750</td>\n",
       "      <td>24.000000</td>\n",
       "      <td>0.000000</td>\n",
       "    </tr>\n",
       "    <tr>\n",
       "      <th>50%</th>\n",
       "      <td>3.000000</td>\n",
       "      <td>117.000000</td>\n",
       "      <td>72.000000</td>\n",
       "      <td>23.000000</td>\n",
       "      <td>30.500000</td>\n",
       "      <td>32.000000</td>\n",
       "      <td>0.372500</td>\n",
       "      <td>29.000000</td>\n",
       "      <td>0.000000</td>\n",
       "    </tr>\n",
       "    <tr>\n",
       "      <th>75%</th>\n",
       "      <td>6.000000</td>\n",
       "      <td>140.250000</td>\n",
       "      <td>80.000000</td>\n",
       "      <td>32.000000</td>\n",
       "      <td>127.250000</td>\n",
       "      <td>36.600000</td>\n",
       "      <td>0.626250</td>\n",
       "      <td>41.000000</td>\n",
       "      <td>1.000000</td>\n",
       "    </tr>\n",
       "    <tr>\n",
       "      <th>max</th>\n",
       "      <td>17.000000</td>\n",
       "      <td>199.000000</td>\n",
       "      <td>122.000000</td>\n",
       "      <td>99.000000</td>\n",
       "      <td>846.000000</td>\n",
       "      <td>67.100000</td>\n",
       "      <td>2.420000</td>\n",
       "      <td>81.000000</td>\n",
       "      <td>1.000000</td>\n",
       "    </tr>\n",
       "  </tbody>\n",
       "</table>\n",
       "</div>"
      ],
      "text/plain": [
       "       Pregnancies     Glucose  BloodPressure  SkinThickness     Insulin  \\\n",
       "count   768.000000  768.000000     768.000000     768.000000  768.000000   \n",
       "mean      3.845052  120.894531      69.105469      20.536458   79.799479   \n",
       "std       3.369578   31.972618      19.355807      15.952218  115.244002   \n",
       "min       0.000000    0.000000       0.000000       0.000000    0.000000   \n",
       "25%       1.000000   99.000000      62.000000       0.000000    0.000000   \n",
       "50%       3.000000  117.000000      72.000000      23.000000   30.500000   \n",
       "75%       6.000000  140.250000      80.000000      32.000000  127.250000   \n",
       "max      17.000000  199.000000     122.000000      99.000000  846.000000   \n",
       "\n",
       "              BMI  DiabetesPedigreeFunction         Age     Outcome  \n",
       "count  768.000000                768.000000  768.000000  768.000000  \n",
       "mean    31.992578                  0.471876   33.240885    0.348958  \n",
       "std      7.884160                  0.331329   11.760232    0.476951  \n",
       "min      0.000000                  0.078000   21.000000    0.000000  \n",
       "25%     27.300000                  0.243750   24.000000    0.000000  \n",
       "50%     32.000000                  0.372500   29.000000    0.000000  \n",
       "75%     36.600000                  0.626250   41.000000    1.000000  \n",
       "max     67.100000                  2.420000   81.000000    1.000000  "
      ]
     },
     "execution_count": 4,
     "metadata": {},
     "output_type": "execute_result"
    }
   ],
   "source": [
    "df.describe()"
   ]
  },
  {
   "cell_type": "markdown",
   "id": "1c2ba208-5d60-4a6f-b661-f3b4e2c224ec",
   "metadata": {},
   "source": [
    "# Periksa Nilai Unik di Kolom Tertentu (Outcome)"
   ]
  },
  {
   "cell_type": "code",
   "execution_count": 5,
   "id": "51a328f3-ffeb-42de-a874-f6ae36e55b8d",
   "metadata": {},
   "outputs": [
    {
     "name": "stdout",
     "output_type": "stream",
     "text": [
      "Outcome has [1 0] values\n",
      "\n"
     ]
    }
   ],
   "source": [
    "cols = ['Outcome']\n",
    "\n",
    "for col in cols:\n",
    "    print(f\"{col} has {df[col].unique()} values\\n\")"
   ]
  },
  {
   "cell_type": "markdown",
   "id": "c478ccec-a4fc-4734-ab1c-cf53b68dfd33",
   "metadata": {},
   "source": [
    "# Validasi Data"
   ]
  },
  {
   "cell_type": "markdown",
   "id": "9d0c5c32-520b-477a-8823-84b6ee073ef1",
   "metadata": {},
   "source": [
    "# Cek Missing Values di Setiap Kolom"
   ]
  },
  {
   "cell_type": "code",
   "execution_count": 6,
   "id": "f063bbb8-ae47-4df4-8ed4-fc487d126231",
   "metadata": {},
   "outputs": [
    {
     "data": {
      "text/plain": [
       "Pregnancies                 0\n",
       "Glucose                     0\n",
       "BloodPressure               0\n",
       "SkinThickness               0\n",
       "Insulin                     0\n",
       "BMI                         0\n",
       "DiabetesPedigreeFunction    0\n",
       "Age                         0\n",
       "Outcome                     0\n",
       "dtype: int64"
      ]
     },
     "execution_count": 6,
     "metadata": {},
     "output_type": "execute_result"
    }
   ],
   "source": [
    "df.isnull().sum()"
   ]
  },
  {
   "cell_type": "markdown",
   "id": "0da32ea4-fcb1-45d5-8a15-b23d0e03cc58",
   "metadata": {},
   "source": [
    "# Cek Data Duplikat"
   ]
  },
  {
   "cell_type": "code",
   "execution_count": 7,
   "id": "69c453bd-086a-441b-ac73-7035d1ffe4a2",
   "metadata": {},
   "outputs": [
    {
     "name": "stdout",
     "output_type": "stream",
     "text": [
      "Jumlah data duplikat: 0\n"
     ]
    }
   ],
   "source": [
    "# Mengecek jumlah duplikat di seluruh dataset\n",
    "jumlah_duplikat = df.duplicated().sum()\n",
    "print(f\"Jumlah data duplikat: {jumlah_duplikat}\")"
   ]
  },
  {
   "cell_type": "markdown",
   "id": "27b6fff3-4dd7-4c80-8f88-b1013a1bbced",
   "metadata": {},
   "source": [
    "# Data Sebelum Normalisasi"
   ]
  },
  {
   "cell_type": "code",
   "execution_count": 8,
   "id": "e0299590-86dc-4907-9158-3057b93be5c9",
   "metadata": {},
   "outputs": [
    {
     "name": "stdout",
     "output_type": "stream",
     "text": [
      "Data Sebelum Normalisasi:\n",
      "   Pregnancies  Glucose  BloodPressure  SkinThickness  Insulin   BMI  \\\n",
      "0            6      148             72             35        0  33.6   \n",
      "1            1       85             66             29        0  26.6   \n",
      "2            8      183             64              0        0  23.3   \n",
      "3            1       89             66             23       94  28.1   \n",
      "4            0      137             40             35      168  43.1   \n",
      "\n",
      "   DiabetesPedigreeFunction  Age  Outcome  \n",
      "0                     0.627   50        1  \n",
      "1                     0.351   31        0  \n",
      "2                     0.672   32        1  \n",
      "3                     0.167   21        0  \n",
      "4                     2.288   33        1  \n"
     ]
    }
   ],
   "source": [
    "# Menampilkan 5 baris pertama sebelum normalisasi\n",
    "print(\"Data Sebelum Normalisasi:\")\n",
    "df_original = df.copy()  # Simpan hasil normalisasi ke dataframe baru\n",
    "print(df_original.head())\n"
   ]
  },
  {
   "cell_type": "markdown",
   "id": "514d5f5c-9c97-4ef3-968e-806c7a092045",
   "metadata": {},
   "source": [
    "# Normalisasi dengan Metode Min-Max Scaling"
   ]
  },
  {
   "cell_type": "code",
   "execution_count": 9,
   "id": "20ddfeeb-2dec-4c05-bab5-79e69931a123",
   "metadata": {},
   "outputs": [
    {
     "ename": "NameError",
     "evalue": "name 'numerical_features' is not defined",
     "output_type": "error",
     "traceback": [
      "\u001b[1;31m---------------------------------------------------------------------------\u001b[0m",
      "\u001b[1;31mNameError\u001b[0m                                 Traceback (most recent call last)",
      "Cell \u001b[1;32mIn[9], line 7\u001b[0m\n\u001b[0;32m      4\u001b[0m scaler \u001b[38;5;241m=\u001b[39m MinMaxScaler()\n\u001b[0;32m      6\u001b[0m \u001b[38;5;66;03m# Melakukan normalisasi pada fitur numerik\u001b[39;00m\n\u001b[1;32m----> 7\u001b[0m df[numerical_features] \u001b[38;5;241m=\u001b[39m scaler\u001b[38;5;241m.\u001b[39mfit_transform(df[\u001b[43mnumerical_features\u001b[49m])\n\u001b[0;32m      9\u001b[0m \u001b[38;5;66;03m# Menyimpan hasil normalisasi ke file CSV\u001b[39;00m\n\u001b[0;32m     10\u001b[0m df\u001b[38;5;241m.\u001b[39mto_csv(\u001b[38;5;124m'\u001b[39m\u001b[38;5;124mdiabetes_normalized.csv\u001b[39m\u001b[38;5;124m'\u001b[39m, index\u001b[38;5;241m=\u001b[39m\u001b[38;5;28;01mFalse\u001b[39;00m)\n",
      "\u001b[1;31mNameError\u001b[0m: name 'numerical_features' is not defined"
     ]
    }
   ],
   "source": [
    "from sklearn.preprocessing import MinMaxScaler\n",
    "\n",
    "# Inisialisasi scaler Min-Max\n",
    "scaler = MinMaxScaler()\n",
    "\n",
    "# Melakukan normalisasi pada fitur numerik\n",
    "df[numerical_features] = scaler.fit_transform(df[numerical_features])\n",
    "\n",
    "# Menyimpan hasil normalisasi ke file CSV\n",
    "df.to_csv('diabetes_normalized.csv', index=False)\n"
   ]
  },
  {
   "cell_type": "markdown",
   "id": "2445fc70-82c1-46c4-94b0-fb4264087acd",
   "metadata": {},
   "source": [
    "# Data Sesudah Normalisasi"
   ]
  },
  {
   "cell_type": "code",
   "execution_count": null,
   "id": "97938622-85be-4388-947b-33a365a0d639",
   "metadata": {},
   "outputs": [],
   "source": [
    "# Menampilkan 5 baris pertama setelah normalisasi\n",
    "print(\"Data Sesudah Normalisasi:\")\n",
    "df_normalized = df.copy()  # Simpan hasil normalisasi ke dataframe baru\n",
    "print(df_normalized.head())\n"
   ]
  },
  {
   "cell_type": "markdown",
   "id": "3de90ca3-509b-4816-8555-226838263c30",
   "metadata": {},
   "source": [
    "# Membagi Dataset Berdasarkan Tipe Data"
   ]
  },
  {
   "cell_type": "code",
   "execution_count": null,
   "id": "17d0e7e6-033f-4d88-a3fd-a72871a640b0",
   "metadata": {},
   "outputs": [],
   "source": [
    "import pandas as pd\n",
    "\n",
    "# Membagi kolom berdasarkan tipe data\n",
    "numerical_features = df.select_dtypes(include=['int64', 'float64']).columns  # Kolom numerik\n",
    "categorical_features = df.select_dtypes(include=['object', 'category']).columns  # Kolom kategorikal\n",
    "\n",
    "# Khusus fitur Outcome sebagai kategorikal\n",
    "categorical_features = list(categorical_features)  # Konversi ke list\n",
    "if 'Outcome' in df.columns:\n",
    "    categorical_features.append('Outcome')  # Tambahkan fitur 'Outcome' sebagai kategorikal\n",
    "    numerical_features = numerical_features.drop('Outcome')  # Hapus 'Outcome' dari fitur numerik"
   ]
  },
  {
   "cell_type": "markdown",
   "id": "9c4bf7f4-fd7f-4303-8e27-de6b79354324",
   "metadata": {},
   "source": [
    "# Data Numerik"
   ]
  },
  {
   "cell_type": "code",
   "execution_count": null,
   "id": "a1afb9ef-dce3-484d-ae8e-1454dbfcde77",
   "metadata": {},
   "outputs": [],
   "source": [
    "print(\"Kolom Numerik:\")\n",
    "print(numerical_features)\n",
    "df_numerical = df[numerical_features]\n",
    "print(\"\\nDataset Numerik:\")\n",
    "print(df_numerical.head())"
   ]
  },
  {
   "cell_type": "markdown",
   "id": "6f580b3c-d8e2-489b-b63a-7d4d38fb05d3",
   "metadata": {},
   "source": [
    "# Data Kategorikal"
   ]
  },
  {
   "cell_type": "code",
   "execution_count": null,
   "id": "80e610a7-935f-40f7-b4bd-417d183615ba",
   "metadata": {},
   "outputs": [],
   "source": [
    "print(\"\\nKolom Kategorikal:\")\n",
    "print(categorical_features)\n",
    "df_categorical = df[categorical_features]\n",
    "print(\"\\nDataset Kategorikal:\")\n",
    "print(df_categorical.head())"
   ]
  },
  {
   "cell_type": "markdown",
   "id": "a7798ec6-0e08-4d4f-9e61-d9fc9cd3baaa",
   "metadata": {},
   "source": [
    "# Feature Selection - Decision Trees"
   ]
  },
  {
   "cell_type": "code",
   "execution_count": null,
   "id": "3a8ecf18-25f6-4975-a93c-7539f89e5e7f",
   "metadata": {},
   "outputs": [],
   "source": [
    "from sklearn.tree import DecisionTreeClassifier\n",
    "import matplotlib.pyplot as plt\n",
    "\n",
    "# Menyiapkan data fitur dan target\n",
    "X = df[numerical_features]  # Fitur numerik\n",
    "y = df['Outcome']  # Target: Outcome\n",
    "\n",
    "# Melatih model Decision Tree\n",
    "model = DecisionTreeClassifier(random_state=42)\n",
    "model.fit(X, y)\n",
    "\n",
    "# Mengambil pentingnya fitur\n",
    "feature_importances = model.feature_importances_\n",
    "\n",
    "# Menampilkan pentingnya fitur\n",
    "feature_df = pd.DataFrame({\n",
    "    'Feature': numerical_features,\n",
    "    'Importance': feature_importances\n",
    "})\n",
    "\n",
    "# Mengurutkan berdasarkan pentingnya fitur\n",
    "feature_df = feature_df.sort_values(by='Importance', ascending=False)\n",
    "\n",
    "# Visualisasi pentingnya fitur\n",
    "plt.figure(figsize=(10, 6))\n",
    "plt.barh(feature_df['Feature'], feature_df['Importance'])\n",
    "plt.xlabel('Importance')\n",
    "plt.title('Feature Importance using Decision Tree')\n",
    "plt.show()\n",
    "\n",
    "# Menampilkan fitur yang paling penting\n",
    "print(\"\\n\", feature_df)\n"
   ]
  },
  {
   "cell_type": "markdown",
   "id": "18416881-700a-4514-83f9-372f1054af2a",
   "metadata": {},
   "source": [
    "# Feature Selection - Random Forest"
   ]
  },
  {
   "cell_type": "code",
   "execution_count": null,
   "id": "9536982b-c7f5-4d94-b6a7-3ea62a44a959",
   "metadata": {},
   "outputs": [],
   "source": [
    "from sklearn.ensemble import RandomForestClassifier\n",
    "import matplotlib.pyplot as plt\n",
    "\n",
    "# Menyiapkan data fitur dan target\n",
    "X = df[numerical_features]  # Fitur numerik\n",
    "y = df['Outcome']  # Target: Outcome\n",
    "\n",
    "# Melatih model Random Forest\n",
    "rf_model = RandomForestClassifier(random_state=42)\n",
    "rf_model.fit(X, y)\n",
    "\n",
    "# Mengambil pentingnya fitur\n",
    "feature_importances_rf = rf_model.feature_importances_\n",
    "\n",
    "# Menampilkan pentingnya fitur\n",
    "feature_df_rf = pd.DataFrame({\n",
    "    'Feature': numerical_features,\n",
    "    'Importance': feature_importances_rf\n",
    "})\n",
    "\n",
    "# Mengurutkan berdasarkan pentingnya fitur\n",
    "feature_df_rf = feature_df_rf.sort_values(by='Importance', ascending=False)\n",
    "\n",
    "# Visualisasi pentingnya fitur\n",
    "plt.figure(figsize=(10, 6))\n",
    "plt.barh(feature_df_rf['Feature'], feature_df_rf['Importance'])\n",
    "plt.xlabel('Importance')\n",
    "plt.title('Feature Importance using Random Forest')\n",
    "plt.show()\n",
    "\n",
    "# Menampilkan fitur yang paling penting\n",
    "print(\"\\n\", feature_df_rf)\n"
   ]
  },
  {
   "cell_type": "markdown",
   "id": "8b9305f7-e601-4bfa-a91f-ff387af68603",
   "metadata": {},
   "source": [
    "# Pilih dan Eksekusi Feature Selection"
   ]
  },
  {
   "cell_type": "code",
   "execution_count": null,
   "id": "bf6b1f9a-0493-41f0-8a8f-1bc722e584e9",
   "metadata": {},
   "outputs": [],
   "source": [
    "# Menghapus fitur yang tidak diinginkan\n",
    "df = df.drop(columns=['SkinThickness', 'Insulin', 'Pregnancies', 'BloodPressure'])\n",
    "\n",
    "# Menampilkan dataset setelah penghapusan fitur\n",
    "print(df.head())\n",
    "\n",
    "# Menyimpan hasil seleksi fitur ke file CSV\n",
    "df.to_csv('diabetes_feature_selected.csv', index=False)"
   ]
  },
  {
   "cell_type": "markdown",
   "id": "962ced6b-977d-4353-b6d5-838f613e1547",
   "metadata": {},
   "source": [
    "# Membagi Dataset Menjadi Data Training dan Data Testing"
   ]
  },
  {
   "cell_type": "code",
   "execution_count": null,
   "id": "f2bda393-38c7-499a-af8d-2b6e2c54d931",
   "metadata": {},
   "outputs": [],
   "source": [
    "from sklearn.model_selection import train_test_split\n",
    "\n",
    "# Memisahkan dataset menjadi fitur (X) dan target (y)\n",
    "X = df.drop(columns=['Outcome'])  # Fitur\n",
    "y = df['Outcome']  # Target\n",
    "\n",
    "# Membagi dataset menjadi training dan testing (80% training, 20% testing)\n",
    "X_train, X_test, y_train, y_test = train_test_split(X, y, test_size=0.2, random_state=42)\n",
    "\n",
    "# Menggabungkan X_train dan y_train menjadi dataset training\n",
    "train_df = X_train.copy()\n",
    "train_df['Outcome'] = y_train\n",
    "\n",
    "# Menggabungkan X_test dan y_test menjadi dataset testing\n",
    "test_df = X_test.copy()\n",
    "test_df['Outcome'] = y_test\n",
    "\n",
    "# Menyimpan dataset training dan testing ke file CSV\n",
    "train_df.to_csv('diabetes_train.csv', index=False)\n",
    "test_df.to_csv('diabetes_test.csv', index=False)\n"
   ]
  },
  {
   "cell_type": "markdown",
   "id": "dd8b6eb6-a98c-444d-9f10-fb48045cc1a5",
   "metadata": {},
   "source": [
    "# Data Training"
   ]
  },
  {
   "cell_type": "code",
   "execution_count": null,
   "id": "b92cf2dc-ade4-471b-806c-22afab2840ed",
   "metadata": {},
   "outputs": [],
   "source": [
    "# Menampilkan 5 baris pertama dari dataset training\n",
    "print(\"Data Training:\")\n",
    "print(train_df.head())\n"
   ]
  },
  {
   "cell_type": "markdown",
   "id": "8f0e922c-01ab-47a9-9013-b066b023a9fc",
   "metadata": {},
   "source": [
    "# Data Testing"
   ]
  },
  {
   "cell_type": "code",
   "execution_count": null,
   "id": "673348af-c2fb-44ff-bbb7-089d7b214b1d",
   "metadata": {},
   "outputs": [],
   "source": [
    "# Menampilkan 5 baris pertama dari dataset testing\n",
    "print(\"Data Testing:\")\n",
    "print(test_df.head())\n"
   ]
  },
  {
   "cell_type": "markdown",
   "id": "0fc52036-4f30-497f-b699-74e214113e6f",
   "metadata": {},
   "source": [
    "# Latih Model KNN"
   ]
  },
  {
   "cell_type": "code",
   "execution_count": null,
   "id": "4cffdf55-a2e2-473d-b2c8-805fec47f8dd",
   "metadata": {},
   "outputs": [],
   "source": [
    "from sklearn.neighbors import KNeighborsClassifier\n",
    "from sklearn.metrics import classification_report\n",
    "\n",
    "# Menyusun k_values\n",
    "k_values = [1, 3, 5, 7, 9, 11, 13, 15, 17, 19]\n",
    "\n",
    "# Latih model KNN untuk setiap nilai k dan simpan hasilnya\n",
    "knn_models = {}\n",
    "for k in k_values:\n",
    "    knn = KNeighborsClassifier(n_neighbors=k)\n",
    "    knn.fit(X_train, y_train)\n",
    "    knn_models[k] = knn\n",
    "\n",
    "# Simpan model-model KNN dalam dictionary knn_models\n",
    "print(\"Model KNN berhasil dilatih dengan berbagai nilai k.\")\n"
   ]
  },
  {
   "cell_type": "markdown",
   "id": "142a138c-6dfe-4544-8b13-ec5e398697de",
   "metadata": {},
   "source": [
    "# Classification Report"
   ]
  },
  {
   "cell_type": "code",
   "execution_count": null,
   "id": "e91d41a4-ebda-4d8b-879b-a13bf1195d12",
   "metadata": {},
   "outputs": [],
   "source": [
    "# Menampilkan classification report untuk setiap model KNN\n",
    "for k, model in knn_models.items():\n",
    "    print(f\"\\nClassification Report untuk k = {k}:\")\n",
    "    y_pred = model.predict(X_test)\n",
    "    print(classification_report(y_test, y_pred))\n"
   ]
  },
  {
   "cell_type": "markdown",
   "id": "c51eec33-c9ca-4cdb-a21d-f439124414c0",
   "metadata": {},
   "source": [
    "# Visualisasi Akurasi Setiap Nilai K"
   ]
  },
  {
   "cell_type": "code",
   "execution_count": null,
   "id": "35817646-3e6c-49d3-9e90-55d7eebea2d9",
   "metadata": {},
   "outputs": [],
   "source": [
    "import matplotlib.pyplot as plt\n",
    "from sklearn.metrics import accuracy_score\n",
    "\n",
    "# Menghitung akurasi untuk setiap model KNN\n",
    "accuracies = []\n",
    "for k, model in knn_models.items():\n",
    "    y_pred = model.predict(X_test)\n",
    "    accuracy = accuracy_score(y_test, y_pred)\n",
    "    accuracies.append(accuracy)\n",
    "\n",
    "# Membuat plot akurasi terhadap nilai k\n",
    "plt.figure(figsize=(10, 6))\n",
    "plt.plot(k_values, accuracies, marker='o', linestyle='-', color='b')\n",
    "plt.title('Akurasi Model KNN untuk Setiap Nilai k')\n",
    "plt.xlabel('Nilai k')\n",
    "plt.ylabel('Akurasi')\n",
    "plt.xticks(k_values)\n",
    "plt.grid(True)\n",
    "plt.show()\n",
    "\n",
    "# Menampilkan list akurasi untuk setiap nilai k\n",
    "print(\"\\nAkurasi untuk setiap nilai k:\")\n",
    "for k, accuracy in zip(k_values, accuracies):\n",
    "    print(f\"k = {k}: Akurasi = {accuracy:.4f}\")\n"
   ]
  },
  {
   "cell_type": "markdown",
   "id": "3bc2164d-3de8-4b6d-be57-a35195d7de46",
   "metadata": {},
   "source": [
    "# Visualisasi Precision, Recall, and F1-Score Setiap Nilai K"
   ]
  },
  {
   "cell_type": "code",
   "execution_count": null,
   "id": "91273343-9be1-469d-abed-4764e371f251",
   "metadata": {},
   "outputs": [],
   "source": [
    "import matplotlib.pyplot as plt\n",
    "from sklearn.metrics import precision_score, recall_score, f1_score\n",
    "\n",
    "# Menyimpan metrik precision, recall, dan f1-score untuk setiap model KNN\n",
    "precisions = []\n",
    "recalls = []\n",
    "f1_scores = []\n",
    "\n",
    "for k, model in knn_models.items():\n",
    "    y_pred = model.predict(X_test)\n",
    "    \n",
    "    precision = precision_score(y_test, y_pred)\n",
    "    recall = recall_score(y_test, y_pred)\n",
    "    f1 = f1_score(y_test, y_pred)\n",
    "    \n",
    "    precisions.append(precision)\n",
    "    recalls.append(recall)\n",
    "    f1_scores.append(f1)\n",
    "\n",
    "# Membuat subplots untuk menampilkan precision, recall, f1-score dan gabungannya\n",
    "fig, axes = plt.subplots(4, 1, figsize=(10, 24))\n",
    "\n",
    "# Precision, Recall, F1-Score plot (gabungan dalam satu grafik) di posisi pertama\n",
    "axes[0].plot(k_values, precisions, marker='o', linestyle='-', color='r', label='Precision')\n",
    "axes[0].plot(k_values, recalls, marker='o', linestyle='-', color='g', label='Recall')\n",
    "axes[0].plot(k_values, f1_scores, marker='o', linestyle='-', color='b', label='F1-Score')\n",
    "axes[0].set_title('Precision, Recall, dan F1-Score Model KNN untuk Setiap Nilai k')\n",
    "axes[0].set_xlabel('Nilai k')\n",
    "axes[0].set_ylabel('Classification Report')\n",
    "axes[0].set_xticks(k_values)\n",
    "axes[0].grid(True)\n",
    "axes[0].legend()\n",
    "\n",
    "# Precision plot\n",
    "axes[1].plot(k_values, precisions, marker='o', linestyle='-', color='r')\n",
    "axes[1].set_title('Precision Model KNN untuk Setiap Nilai k')\n",
    "axes[1].set_xlabel('Nilai k')\n",
    "axes[1].set_ylabel('Precision')\n",
    "axes[1].set_xticks(k_values)\n",
    "axes[1].grid(True)\n",
    "\n",
    "# Recall plot\n",
    "axes[2].plot(k_values, recalls, marker='o', linestyle='-', color='g')\n",
    "axes[2].set_title('Recall Model KNN untuk Setiap Nilai k')\n",
    "axes[2].set_xlabel('Nilai k')\n",
    "axes[2].set_ylabel('Recall')\n",
    "axes[2].set_xticks(k_values)\n",
    "axes[2].grid(True)\n",
    "\n",
    "# F1-score plot\n",
    "axes[3].plot(k_values, f1_scores, marker='o', linestyle='-', color='b')\n",
    "axes[3].set_title('F1-Score Model KNN untuk Setiap Nilai k')\n",
    "axes[3].set_xlabel('Nilai k')\n",
    "axes[3].set_ylabel('F1-Score')\n",
    "axes[3].set_xticks(k_values)\n",
    "axes[3].grid(True)\n",
    "\n",
    "# Menampilkan plot\n",
    "plt.tight_layout()\n",
    "plt.show()\n",
    "\n",
    "# Menampilkan nilai precision, recall, dan f1-score untuk setiap k\n",
    "print(\"\\nPrecision, Recall, dan F1-Score untuk setiap nilai k:\")\n",
    "for k, precision, recall, f1 in zip(k_values, precisions, recalls, f1_scores):\n",
    "    print(f\"k = {k}: Precision = {precision:.4f}, Recall = {recall:.4f}, F1-Score = {f1:.4f}\")\n"
   ]
  },
  {
   "cell_type": "markdown",
   "id": "6b613e52-8a91-4ece-bf22-c5b888d59b07",
   "metadata": {},
   "source": [
    "# Hitung P-Values dengan ANOVA"
   ]
  },
  {
   "cell_type": "code",
   "execution_count": null,
   "id": "d0206048-e401-4f14-a9d3-aee00f4c095a",
   "metadata": {},
   "outputs": [],
   "source": [
    "from sklearn.feature_selection import f_classif\n",
    "import numpy as np\n",
    "\n",
    "# Menghitung P-Values untuk setiap fitur\n",
    "f_values, p_values = f_classif(X_train, y_train)\n",
    "\n",
    "# Menampilkan P-Values untuk setiap fitur\n",
    "print(\"P-Values untuk setiap fitur:\")\n",
    "for feature, p_value in zip(X_train.columns, p_values):\n",
    "    print(f\"{feature}: P-Value = {p_value:.4f}\")\n"
   ]
  },
  {
   "cell_type": "markdown",
   "id": "6f21efd4-2002-46a4-af2f-4f7b48bbdce5",
   "metadata": {},
   "source": [
    "# Visualisasi P-Values dengan ANOVA"
   ]
  },
  {
   "cell_type": "code",
   "execution_count": null,
   "id": "0a690877-0ba8-431a-b239-7a30be5ff9ba",
   "metadata": {},
   "outputs": [],
   "source": [
    "import matplotlib.pyplot as plt\n",
    "\n",
    "# Membuat plot untuk P-Values\n",
    "plt.figure(figsize=(10, 6))\n",
    "\n",
    "# Membuat bar chart untuk P-Values\n",
    "plt.barh(X_train.columns, p_values, color='skyblue')\n",
    "plt.axvline(x=0.05, color='r', linestyle='--', label='Threshold P-Value = 0.05')  # Menambahkan threshold P-Value\n",
    "plt.title('P-Values untuk Setiap Fitur (ANOVA)')\n",
    "plt.xlabel('P-Value')\n",
    "plt.ylabel('Fitur')\n",
    "plt.legend()\n",
    "plt.grid(True, axis='x', linestyle='--', alpha=0.6)\n",
    "\n",
    "# Menampilkan chart\n",
    "plt.show()\n"
   ]
  },
  {
   "cell_type": "markdown",
   "id": "80849bc9-8a91-4d95-a1f3-b19c2a772820",
   "metadata": {},
   "source": [
    "# Hitung Specificity"
   ]
  },
  {
   "cell_type": "code",
   "execution_count": null,
   "id": "58411f38-df00-4533-a0b2-6a8d4a0f8513",
   "metadata": {},
   "outputs": [],
   "source": [
    "from sklearn.metrics import confusion_matrix\n",
    "\n",
    "# Menyimpan nilai Specificity untuk setiap model KNN\n",
    "specificities = []\n",
    "\n",
    "for k, model in knn_models.items():\n",
    "    y_pred = model.predict(X_test)\n",
    "    \n",
    "    # Menghitung confusion matrix\n",
    "    tn, fp, fn, tp = confusion_matrix(y_test, y_pred).ravel()\n",
    "    \n",
    "    # Menghitung Specificity\n",
    "    specificity = tn / (tn + fp)\n",
    "    specificities.append(specificity)\n",
    "\n",
    "# Menampilkan Specificity untuk setiap nilai k\n",
    "print(\"Specificity untuk setiap nilai k:\")\n",
    "for k, specificity in zip(k_values, specificities):\n",
    "    print(f\"k = {k}: Specificity = {specificity:.4f}\")\n"
   ]
  },
  {
   "cell_type": "markdown",
   "id": "157753f4-6664-4964-8cfa-e00d54a34a62",
   "metadata": {},
   "source": [
    "# Visualisasi Specificity Setiap Nilai K"
   ]
  },
  {
   "cell_type": "code",
   "execution_count": null,
   "id": "aa788a03-139a-47c2-aaa2-5a5192aeb0c7",
   "metadata": {},
   "outputs": [],
   "source": [
    "import matplotlib.pyplot as plt\n",
    "\n",
    "# Membuat plot untuk Specificity terhadap nilai k\n",
    "plt.figure(figsize=(10, 6))\n",
    "\n",
    "# Plot Specificity\n",
    "plt.plot(k_values, specificities, marker='o', linestyle='-', color='purple', label='Specificity')\n",
    "\n",
    "# Menambahkan judul dan label\n",
    "plt.title('Specificity Model KNN untuk Setiap Nilai k')\n",
    "plt.xlabel('Nilai k')\n",
    "plt.ylabel('Specificity')\n",
    "plt.xticks(k_values)\n",
    "plt.grid(True)\n",
    "\n",
    "# Menambahkan legend\n",
    "plt.legend()\n",
    "\n",
    "# Menampilkan chart\n",
    "plt.show()\n"
   ]
  }
 ],
 "metadata": {
  "kernelspec": {
   "display_name": "Python 3 (ipykernel)",
   "language": "python",
   "name": "python3"
  },
  "language_info": {
   "codemirror_mode": {
    "name": "ipython",
    "version": 3
   },
   "file_extension": ".py",
   "mimetype": "text/x-python",
   "name": "python",
   "nbconvert_exporter": "python",
   "pygments_lexer": "ipython3",
   "version": "3.13.1"
  }
 },
 "nbformat": 4,
 "nbformat_minor": 5
}
