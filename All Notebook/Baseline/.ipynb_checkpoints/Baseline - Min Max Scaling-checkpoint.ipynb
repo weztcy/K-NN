{
 "cells": [
  {
   "cell_type": "markdown",
   "id": "bd065659-58b7-4e67-a9b9-1a17ebeac443",
   "metadata": {},
   "source": [
    "# Normalisasi Data Training dan Testing Metode Min-Max Scaling"
   ]
  },
  {
   "cell_type": "code",
   "execution_count": 1,
   "id": "ccba8277-f7cc-41e4-9bda-412d059f37b2",
   "metadata": {},
   "outputs": [
    {
     "name": "stdout",
     "output_type": "stream",
     "text": [
      "Normalization completed. Scaled data stored in 'data_training_scaled' and 'data_testing_scaled'.\n"
     ]
    }
   ],
   "source": [
    "import pandas as pd\n",
    "from sklearn.preprocessing import MinMaxScaler\n",
    "\n",
    "# Load the datasets\n",
    "data_testing = pd.read_csv('../../data_testing.csv')  # Replace with your testing file path\n",
    "data_training = pd.read_csv('../../data_training.csv')  # Replace with your training file path\n",
    "\n",
    "# Separate features (X) and target (y)\n",
    "X_train = data_training.drop(columns='Outcome')\n",
    "y_train = data_training['Outcome']\n",
    "X_test = data_testing.drop(columns='Outcome')\n",
    "y_test = data_testing['Outcome']\n",
    "\n",
    "# Initialize the Min-Max Scaler\n",
    "scaler = MinMaxScaler()\n",
    "\n",
    "# Apply Min-Max Scaling to the features\n",
    "X_train_scaled = pd.DataFrame(scaler.fit_transform(X_train), columns=X_train.columns)\n",
    "X_test_scaled = pd.DataFrame(scaler.transform(X_test), columns=X_test.columns)\n",
    "\n",
    "# Add the target column back to the scaled DataFrame\n",
    "data_training_scaled = pd.concat([X_train_scaled, y_train.reset_index(drop=True)], axis=1)\n",
    "data_testing_scaled = pd.concat([X_test_scaled, y_test.reset_index(drop=True)], axis=1)\n",
    "\n",
    "print(\"Normalization completed. Scaled data stored in 'data_training_scaled' and 'data_testing_scaled'.\")\n"
   ]
  },
  {
   "cell_type": "markdown",
   "id": "d8451967-054e-4023-8182-352ef392c494",
   "metadata": {},
   "source": [
    "# Tampilkan Data Sebelum dan Sesudah Normalisasi"
   ]
  },
  {
   "cell_type": "markdown",
   "id": "1218c529-16f3-4ea0-9e8c-762333e8e2f3",
   "metadata": {},
   "source": [
    "## Data Training"
   ]
  },
  {
   "cell_type": "code",
   "execution_count": 2,
   "id": "dd5a73d1-2988-4645-8a50-7e49b760ed53",
   "metadata": {},
   "outputs": [
    {
     "name": "stdout",
     "output_type": "stream",
     "text": [
      "Original Training Data (First 5 Rows):\n",
      "   Pregnancies  Glucose  BloodPressure  SkinThickness  Insulin   BMI  \\\n",
      "0            2       84              0              0        0   0.0   \n",
      "1            9      112             82             24        0  28.2   \n",
      "2            1      139             46             19       83  28.7   \n",
      "3            0      161             50              0        0  21.9   \n",
      "4            6      134             80             37      370  46.2   \n",
      "\n",
      "   DiabetesPedigreeFunction  Age  Outcome  \n",
      "0                     0.304   21        0  \n",
      "1                     1.282   50        1  \n",
      "2                     0.654   22        0  \n",
      "3                     0.254   65        0  \n",
      "4                     0.238   46        1  \n",
      "\n",
      "Normalized Training Data (First 5 Rows):\n",
      "   Pregnancies   Glucose  BloodPressure  SkinThickness   Insulin       BMI  \\\n",
      "0     0.117647  0.422111       0.000000       0.000000  0.000000  0.000000   \n",
      "1     0.529412  0.562814       0.672131       0.380952  0.000000  0.420268   \n",
      "2     0.058824  0.698492       0.377049       0.301587  0.098109  0.427720   \n",
      "3     0.000000  0.809045       0.409836       0.000000  0.000000  0.326379   \n",
      "4     0.352941  0.673367       0.655738       0.587302  0.437352  0.688525   \n",
      "\n",
      "   DiabetesPedigreeFunction       Age  Outcome  \n",
      "0                  0.096499  0.000000        0  \n",
      "1                  0.514091  0.483333        1  \n",
      "2                  0.245944  0.016667        0  \n",
      "3                  0.075149  0.733333        0  \n",
      "4                  0.068318  0.416667        1  \n"
     ]
    }
   ],
   "source": [
    "# Display original and normalized data for training dataset\n",
    "print(\"Original Training Data (First 5 Rows):\")\n",
    "print(data_training.head())\n",
    "\n",
    "print(\"\\nNormalized Training Data (First 5 Rows):\")\n",
    "print(data_training_scaled.head())\n"
   ]
  },
  {
   "cell_type": "markdown",
   "id": "216f3d14-e4ca-405b-971d-45e67cdcda2a",
   "metadata": {},
   "source": [
    "# Data Testing"
   ]
  },
  {
   "cell_type": "code",
   "execution_count": 3,
   "id": "598d7dff-0a12-47ad-b5ff-feb0e7df4b8a",
   "metadata": {},
   "outputs": [
    {
     "name": "stdout",
     "output_type": "stream",
     "text": [
      "\n",
      "Original Testing Data (First 5 Rows):\n",
      "   Pregnancies  Glucose  BloodPressure  SkinThickness  Insulin   BMI  \\\n",
      "0            6       98             58             33      190  34.0   \n",
      "1            2      112             75             32        0  35.7   \n",
      "2            2      108             64              0        0  30.8   \n",
      "3            8      107             80              0        0  24.6   \n",
      "4            7      136             90              0        0  29.9   \n",
      "\n",
      "   DiabetesPedigreeFunction  Age  Outcome  \n",
      "0                     0.430   43        0  \n",
      "1                     0.148   21        0  \n",
      "2                     0.158   21        0  \n",
      "3                     0.856   34        0  \n",
      "4                     0.210   50        0  \n",
      "\n",
      "Normalized Testing Data (First 5 Rows):\n",
      "   Pregnancies   Glucose  BloodPressure  SkinThickness   Insulin       BMI  \\\n",
      "0     0.352941  0.492462       0.475410       0.523810  0.224586  0.506706   \n",
      "1     0.117647  0.562814       0.614754       0.507937  0.000000  0.532042   \n",
      "2     0.117647  0.542714       0.524590       0.000000  0.000000  0.459016   \n",
      "3     0.470588  0.537688       0.655738       0.000000  0.000000  0.366617   \n",
      "4     0.411765  0.683417       0.737705       0.000000  0.000000  0.445604   \n",
      "\n",
      "   DiabetesPedigreeFunction       Age  Outcome  \n",
      "0                  0.150299  0.366667        0  \n",
      "1                  0.029889  0.000000        0  \n",
      "2                  0.034159  0.000000        0  \n",
      "3                  0.332195  0.216667        0  \n",
      "4                  0.056362  0.483333        0  \n"
     ]
    }
   ],
   "source": [
    "# Display original and normalized data for testing dataset\n",
    "print(\"\\nOriginal Testing Data (First 5 Rows):\")\n",
    "print(data_testing.head())\n",
    "\n",
    "print(\"\\nNormalized Testing Data (First 5 Rows):\")\n",
    "print(data_testing_scaled.head())\n"
   ]
  },
  {
   "cell_type": "markdown",
   "id": "30905dba-418c-4962-9ee3-b9a97e1f030e",
   "metadata": {},
   "source": [
    "# Latih Model KNN"
   ]
  },
  {
   "cell_type": "code",
   "execution_count": 4,
   "id": "923d50fd-e823-48f9-b1c2-3c6721171166",
   "metadata": {},
   "outputs": [],
   "source": [
    "from sklearn.neighbors import KNeighborsClassifier\n",
    "from sklearn.metrics import classification_report\n",
    "\n",
    "# Separate features and target variable\n",
    "X_train = data_training_scaled.drop(columns='Outcome')\n",
    "y_train = data_training_scaled['Outcome']\n",
    "X_test = data_testing_scaled.drop(columns='Outcome')\n",
    "y_test = data_testing_scaled['Outcome']\n",
    "\n",
    "# Define values of K\n",
    "k_values = [1, 3, 5, 7, 9, 17]\n",
    "\n",
    "# Dictionary to store models and their classification reports\n",
    "knn_models = {}\n",
    "knn_reports = {}\n",
    "\n",
    "# Train KNN models and store models\n",
    "for k in k_values:\n",
    "    # Initialize KNN model\n",
    "    knn = KNeighborsClassifier(n_neighbors=k)\n",
    "    \n",
    "    # Train the model\n",
    "    knn.fit(X_train, y_train)\n",
    "    \n",
    "    # Store the trained model\n",
    "    knn_models[k] = knn\n"
   ]
  },
  {
   "cell_type": "markdown",
   "id": "16d76a8a-223d-4c2b-addb-8f6a9a2119d9",
   "metadata": {},
   "source": [
    "# Evaluasi Model"
   ]
  },
  {
   "cell_type": "code",
   "execution_count": 5,
   "id": "7e003af5-f01a-48bc-8dd0-aefcb79842fe",
   "metadata": {},
   "outputs": [
    {
     "name": "stdout",
     "output_type": "stream",
     "text": [
      "Classification Report for K=1:\n",
      "\n",
      "              precision    recall  f1-score   support\n",
      "\n",
      "           0       0.73      0.75      0.74        99\n",
      "           1       0.53      0.51      0.52        55\n",
      "\n",
      "    accuracy                           0.66       154\n",
      "   macro avg       0.63      0.63      0.63       154\n",
      "weighted avg       0.66      0.66      0.66       154\n",
      "\n",
      "======================================================================================================================================================\n",
      "Classification Report for K=3:\n",
      "\n",
      "              precision    recall  f1-score   support\n",
      "\n",
      "           0       0.77      0.80      0.79        99\n",
      "           1       0.62      0.58      0.60        55\n",
      "\n",
      "    accuracy                           0.72       154\n",
      "   macro avg       0.69      0.69      0.69       154\n",
      "weighted avg       0.72      0.72      0.72       154\n",
      "\n",
      "======================================================================================================================================================\n",
      "Classification Report for K=5:\n",
      "\n",
      "              precision    recall  f1-score   support\n",
      "\n",
      "           0       0.75      0.77      0.76        99\n",
      "           1       0.56      0.53      0.54        55\n",
      "\n",
      "    accuracy                           0.68       154\n",
      "   macro avg       0.65      0.65      0.65       154\n",
      "weighted avg       0.68      0.68      0.68       154\n",
      "\n",
      "======================================================================================================================================================\n",
      "Classification Report for K=7:\n",
      "\n",
      "              precision    recall  f1-score   support\n",
      "\n",
      "           0       0.73      0.78      0.75        99\n",
      "           1       0.54      0.47      0.50        55\n",
      "\n",
      "    accuracy                           0.67       154\n",
      "   macro avg       0.63      0.63      0.63       154\n",
      "weighted avg       0.66      0.67      0.66       154\n",
      "\n",
      "======================================================================================================================================================\n",
      "Classification Report for K=9:\n",
      "\n",
      "              precision    recall  f1-score   support\n",
      "\n",
      "           0       0.76      0.80      0.78        99\n",
      "           1       0.60      0.55      0.57        55\n",
      "\n",
      "    accuracy                           0.71       154\n",
      "   macro avg       0.68      0.67      0.67       154\n",
      "weighted avg       0.70      0.71      0.70       154\n",
      "\n",
      "======================================================================================================================================================\n",
      "Classification Report for K=17:\n",
      "\n",
      "              precision    recall  f1-score   support\n",
      "\n",
      "           0       0.77      0.85      0.81        99\n",
      "           1       0.67      0.55      0.60        55\n",
      "\n",
      "    accuracy                           0.74       154\n",
      "   macro avg       0.72      0.70      0.70       154\n",
      "weighted avg       0.73      0.74      0.73       154\n",
      "\n",
      "======================================================================================================================================================\n"
     ]
    }
   ],
   "source": [
    "# Evaluate each model and print classification report\n",
    "for k, knn in knn_models.items():\n",
    "    # Predict on the test set\n",
    "    y_pred = knn.predict(X_test)\n",
    "    \n",
    "    # Generate classification report\n",
    "    report = classification_report(y_test, y_pred, target_names=[\"0\", \"1\"])\n",
    "    knn_reports[k] = report\n",
    "    \n",
    "    print(f\"Classification Report for K={k}:\\n\")\n",
    "    print(report)\n",
    "    print(\"=\"*150)\n"
   ]
  },
  {
   "cell_type": "code",
   "execution_count": null,
   "id": "9cf81355-6ad0-4a66-8ea1-a995ef9f13c0",
   "metadata": {},
   "outputs": [],
   "source": []
  },
  {
   "cell_type": "code",
   "execution_count": null,
   "id": "1fe18222-0c71-44d4-882e-796c8894fe5a",
   "metadata": {},
   "outputs": [],
   "source": []
  },
  {
   "cell_type": "code",
   "execution_count": null,
   "id": "ef0b1eb2-93e9-432d-aa64-7a749e56ae9b",
   "metadata": {},
   "outputs": [],
   "source": []
  },
  {
   "cell_type": "code",
   "execution_count": null,
   "id": "6251ffa0-abe9-49e0-880d-57cd33ff0b66",
   "metadata": {},
   "outputs": [],
   "source": []
  },
  {
   "cell_type": "code",
   "execution_count": null,
   "id": "7c2ed65d-470c-4fe4-ab8f-5649ab6207fa",
   "metadata": {},
   "outputs": [],
   "source": []
  },
  {
   "cell_type": "code",
   "execution_count": null,
   "id": "39863564-e5ad-4943-8872-4d16aeec4ab8",
   "metadata": {},
   "outputs": [],
   "source": []
  },
  {
   "cell_type": "code",
   "execution_count": null,
   "id": "9c87dd1a-c10c-4beb-bad5-7c1f401e799a",
   "metadata": {},
   "outputs": [],
   "source": []
  },
  {
   "cell_type": "code",
   "execution_count": null,
   "id": "7c780666-61cc-45b8-ba69-3e20b32e8aab",
   "metadata": {},
   "outputs": [],
   "source": []
  },
  {
   "cell_type": "code",
   "execution_count": null,
   "id": "26725f73-6112-4344-b06a-6ecd608ce8b7",
   "metadata": {},
   "outputs": [],
   "source": []
  },
  {
   "cell_type": "code",
   "execution_count": null,
   "id": "1ca553d5-e405-4b1b-b296-ba3de4b0af11",
   "metadata": {},
   "outputs": [],
   "source": []
  },
  {
   "cell_type": "code",
   "execution_count": null,
   "id": "cc241b8e-2fcd-447a-954a-43d9b7f8e9dc",
   "metadata": {},
   "outputs": [],
   "source": []
  },
  {
   "cell_type": "code",
   "execution_count": null,
   "id": "7b1978d1-d0fb-4c96-803c-bf49161abb50",
   "metadata": {},
   "outputs": [],
   "source": []
  },
  {
   "cell_type": "code",
   "execution_count": null,
   "id": "60d75b20-ae41-47a8-b71f-dbd5ef027b52",
   "metadata": {},
   "outputs": [],
   "source": []
  }
 ],
 "metadata": {
  "kernelspec": {
   "display_name": "Python 3 (ipykernel)",
   "language": "python",
   "name": "python3"
  },
  "language_info": {
   "codemirror_mode": {
    "name": "ipython",
    "version": 3
   },
   "file_extension": ".py",
   "mimetype": "text/x-python",
   "name": "python",
   "nbconvert_exporter": "python",
   "pygments_lexer": "ipython3",
   "version": "3.13.1"
  }
 },
 "nbformat": 4,
 "nbformat_minor": 5
}
